{
 "cells": [
  {
   "cell_type": "code",
   "execution_count": 15,
   "id": "c2ffaaf8",
   "metadata": {},
   "outputs": [],
   "source": [
    "import pandas as pd\n",
    "import numpy as np\n",
    "import seaborn as sns\n",
    "import matplotlib.pyplot as plt\n",
    "from sklearn.model_selection import train_test_split, GridSearchCV\n",
    "from sklearn.metrics import accuracy_score, confusion_matrix, classification_report\n",
    "from sklearn.ensemble import RandomForestClassifier, AdaBoostClassifier, GradientBoostingClassifier\n",
    "\n",
    "pd.set_option('display.max_columns', None)"
   ]
  },
  {
   "cell_type": "code",
   "execution_count": 16,
   "id": "98b400e4",
   "metadata": {},
   "outputs": [
    {
     "name": "stderr",
     "output_type": "stream",
     "text": [
      "/var/folders/6j/ctsgnxrx4r7ft9b56b774tfm0000gn/T/ipykernel_93500/3632059075.py:26: FutureWarning: The default value of numeric_only in DataFrame.median is deprecated. In a future version, it will default to False. In addition, specifying 'numeric_only=None' is deprecated. Select only valid columns or specify the value of numeric_only to silence this warning.\n",
      "  dataset[features] = dataset[features].fillna(dataset[features].median())\n"
     ]
    }
   ],
   "source": [
    "dataset = pd.read_csv(\"Kidney_data.csv\")\n",
    "\n",
    "# Preprocessing\n",
    "dataset = dataset.drop('id', axis=1)\n",
    "dataset['rbc'] = dataset['rbc'].replace({'normal': 0, 'abnormal': 1})\n",
    "dataset['pc'] = dataset['pc'].replace({'normal': 0, 'abnormal': 1})\n",
    "dataset['pcc'] = dataset['pcc'].replace({'notpresent': 0, 'present': 1})\n",
    "dataset['ba'] = dataset['ba'].replace({'notpresent': 0, 'present': 1})\n",
    "dataset['htn'] = dataset['htn'].replace({'yes': 1, 'no': 0})\n",
    "dataset['dm'] = dataset['dm'].replace({'\\tyes': 'yes', ' yes': 'yes', '\\tno': 'no'})\n",
    "dataset['dm'] = dataset['dm'].replace({'yes': 1, 'no': 0})\n",
    "dataset['cad'] = dataset['cad'].replace({'\\tno': 'no', 'yes': 1, 'no': 0})\n",
    "dataset['appet'] = dataset['appet'].replace({'good': 1, 'poor': 0})\n",
    "dataset['pe'] = dataset['pe'].replace({'yes': 1, 'no': 0})\n",
    "dataset['ane'] = dataset['ane'].replace({'yes': 1, 'no': 0})\n",
    "dataset['classification'] = dataset['classification'].replace({'ckd\\t': 'ckd'})\n",
    "dataset[\"classification\"] = dataset[\"classification\"].map({'ckd': 1, 'notckd': 0})\n",
    "\n",
    "# Convert columns to numeric types and fill missing values\n",
    "dataset['pcv'] = pd.to_numeric(dataset['pcv'], errors='coerce')\n",
    "dataset['wc'] = pd.to_numeric(dataset['wc'], errors='coerce')\n",
    "dataset['rc'] = pd.to_numeric(dataset['rc'], errors='coerce')\n",
    "features = ['age', 'bp', 'sg', 'al', 'su', 'rbc', 'pc', 'pcc', 'ba', 'bgr', 'bu',\n",
    "           'sc', 'sod', 'pot', 'hemo', 'pcv', 'wc', 'rc', 'htn', 'dm', 'cad',\n",
    "           'appet', 'pe', 'ane']\n",
    "dataset[features] = dataset[features].fillna(dataset[features].median())\n",
    "\n",
    "# Dropping unimportant columns\n",
    "dataset.drop('pcv', axis=1, inplace=True)\n",
    "\n",
    "# Feature selection (based on your previous step)\n",
    "X = dataset[['sg', 'htn', 'hemo', 'dm', 'al', 'appet', 'rc', 'pc']]\n",
    "y = dataset['classification']"
   ]
  },
  {
   "cell_type": "code",
   "execution_count": 18,
   "id": "99f451ac",
   "metadata": {},
   "outputs": [],
   "source": [
    "X_train, X_test, y_train, y_test = train_test_split(X, y, test_size=0.3, random_state=33)"
   ]
  },
  {
   "cell_type": "code",
   "execution_count": 19,
   "id": "ba91ba8a",
   "metadata": {},
   "outputs": [
    {
     "name": "stdout",
     "output_type": "stream",
     "text": [
      "Model: Random Forest\n",
      "Accuracy: 0.975\n",
      "Confusion Matrix:\n",
      "[[55  3]\n",
      " [ 0 62]]\n",
      "Classification Report:\n",
      "              precision    recall  f1-score   support\n",
      "\n",
      "           0       1.00      0.95      0.97        58\n",
      "           1       0.95      1.00      0.98        62\n",
      "\n",
      "    accuracy                           0.97       120\n",
      "   macro avg       0.98      0.97      0.97       120\n",
      "weighted avg       0.98      0.97      0.97       120\n",
      "\n",
      "============================================================\n"
     ]
    }
   ],
   "source": [
    "def evaluate_model(model, model_name):\n",
    "    model.fit(X_train, y_train)\n",
    "    y_pred = model.predict(X_test)\n",
    "    \n",
    "    print(f\"Model: {model_name}\")\n",
    "    print(f\"Accuracy: {accuracy_score(y_test, y_pred)}\")\n",
    "    print(\"Confusion Matrix:\")\n",
    "    print(confusion_matrix(y_test, y_pred))\n",
    "    print(\"Classification Report:\")\n",
    "    print(classification_report(y_test, y_pred))\n",
    "    print(\"=\"*60)\n",
    "param_grid_rf = {\n",
    "    'n_estimators': [100, 200, 300],\n",
    "    'max_depth': [10, 20, None],\n",
    "    'min_samples_split': [2, 5, 10]\n",
    "}\n",
    "grid_rf = GridSearchCV(RandomForestClassifier(random_state=33), param_grid_rf, cv=5)\n",
    "evaluate_model(grid_rf, \"Random Forest\")"
   ]
  },
  {
   "cell_type": "code",
   "execution_count": 22,
   "id": "61c42fa0",
   "metadata": {},
   "outputs": [
    {
     "name": "stdout",
     "output_type": "stream",
     "text": [
      "Model: AdaBoost\n",
      "Accuracy: 0.975\n",
      "Confusion Matrix:\n",
      "[[55  3]\n",
      " [ 0 62]]\n",
      "Classification Report:\n",
      "              precision    recall  f1-score   support\n",
      "\n",
      "           0       1.00      0.95      0.97        58\n",
      "           1       0.95      1.00      0.98        62\n",
      "\n",
      "    accuracy                           0.97       120\n",
      "   macro avg       0.98      0.97      0.97       120\n",
      "weighted avg       0.98      0.97      0.97       120\n",
      "\n",
      "============================================================\n"
     ]
    }
   ],
   "source": [
    "param_grid_ada = {\n",
    "    'n_estimators': [50, 100, 150],\n",
    "    'learning_rate': [0.01, 0.1, 1]\n",
    "}\n",
    "grid_ada = GridSearchCV(AdaBoostClassifier(random_state=33), param_grid_ada, cv=5)\n",
    "evaluate_model(grid_ada, \"AdaBoost\")"
   ]
  },
  {
   "cell_type": "code",
   "execution_count": 23,
   "id": "9126f6aa",
   "metadata": {},
   "outputs": [
    {
     "name": "stdout",
     "output_type": "stream",
     "text": [
      "Model: Gradient Boosting\n",
      "Accuracy: 0.975\n",
      "Confusion Matrix:\n",
      "[[55  3]\n",
      " [ 0 62]]\n",
      "Classification Report:\n",
      "              precision    recall  f1-score   support\n",
      "\n",
      "           0       1.00      0.95      0.97        58\n",
      "           1       0.95      1.00      0.98        62\n",
      "\n",
      "    accuracy                           0.97       120\n",
      "   macro avg       0.98      0.97      0.97       120\n",
      "weighted avg       0.98      0.97      0.97       120\n",
      "\n",
      "============================================================\n"
     ]
    }
   ],
   "source": [
    "param_grid_gb = {\n",
    "    'n_estimators': [100, 200, 300],\n",
    "    'learning_rate': [0.01, 0.1, 1],\n",
    "    'max_depth': [3, 5, 10]\n",
    "}\n",
    "grid_gb = GridSearchCV(GradientBoostingClassifier(random_state=33), param_grid_gb, cv=5)\n",
    "evaluate_model(grid_gb, \"Gradient Boosting\")"
   ]
  },
  {
   "cell_type": "code",
   "execution_count": 25,
   "id": "e0061594",
   "metadata": {},
   "outputs": [
    {
     "name": "stdout",
     "output_type": "stream",
     "text": [
      "Shape of X_train: (280, 8)\n",
      "Length of feature_importances_: 8\n",
      "Number of columns in X: 23\n",
      "Feature importances and columns length do not match!\n"
     ]
    }
   ],
   "source": [
    "# Check the shape of X_train\n",
    "print(\"Shape of X_train:\", X_train.shape)\n",
    "\n",
    "# Fit the Random Forest model\n",
    "rf = RandomForestClassifier(random_state=33)\n",
    "rf.fit(X_train, y_train)\n",
    "\n",
    "# Check the length of feature_importances_\n",
    "print(\"Length of feature_importances_:\", len(rf.feature_importances_))\n",
    "\n",
    "# Check the number of columns in X\n",
    "print(\"Number of columns in X:\", len(X.columns))\n",
    "\n",
    "# Plot feature importances if they match\n",
    "if len(rf.feature_importances_) == len(X.columns):\n",
    "    plt.figure(figsize=(8,6))\n",
    "    ranked_features = pd.Series(rf.feature_importances_, index=X.columns)\n",
    "    ranked_features.nlargest(8).plot(kind='barh')\n",
    "    plt.show()\n",
    "else:\n",
    "    print(\"Feature importances and columns length do not match!\")\n"
   ]
  },
  {
   "cell_type": "code",
   "execution_count": 27,
   "id": "f0d374d8",
   "metadata": {},
   "outputs": [
    {
     "data": {
      "image/png": "[encoded data removed]",
      "text/plain": [
       "<Figure size 800x600 with 1 Axes>"
      ]
     },
     "metadata": {},
     "output_type": "display_data"
    }
   ],
   "source": [
    "\n",
    "\n",
    "# Features used for training\n",
    "selected_features = ['sg', 'htn', 'hemo', 'dm', 'al', 'appet', 'rc', 'pc']\n",
    "\n",
    "# Fit the Random Forest model\n",
    "rf = RandomForestClassifier(random_state=33)\n",
    "rf.fit(X_train, y_train)\n",
    "\n",
    "# Check if feature importances match the selected features\n",
    "if len(rf.feature_importances_) == len(selected_features):\n",
    "    plt.figure(figsize=(8,6))\n",
    "    ranked_features = pd.Series(rf.feature_importances_, index=selected_features)\n",
    "    ranked_features.nlargest(8).plot(kind='barh')\n",
    "    plt.title('Feature Importances')\n",
    "    plt.show()\n",
    "else:\n",
    "    print(\"Feature importances and selected features length do not match!\")\n"
   ]
  },
  {
   "cell_type": "code",
   "execution_count": null,
   "id": "0036c8cb",
   "metadata": {},
   "outputs": [],
   "source": []
  },
  {
   "cell_type": "code",
   "execution_count": null,
   "id": "4a08bdb6",
   "metadata": {},
   "outputs": [],
   "source": []
  },
  {
   "cell_type": "code",
   "execution_count": null,
   "id": "4bd07fc4",
   "metadata": {},
   "outputs": [],
   "source": []
  },
  {
   "cell_type": "code",
   "execution_count": null,
   "id": "0d6ecccb",
   "metadata": {},
   "outputs": [],
   "source": []
  },
  {
   "cell_type": "code",
   "execution_count": null,
   "id": "3d38cdcc",
   "metadata": {},
   "outputs": [],
   "source": []
  },
  {
   "cell_type": "code",
   "execution_count": null,
   "id": "81b1f2cc",
   "metadata": {},
   "outputs": [],
   "source": []
  },
  {
   "cell_type": "code",
   "execution_count": null,
   "id": "5982a58a",
   "metadata": {},
   "outputs": [],
   "source": []
  }
 ],
 "metadata": {
  "kernelspec": {
   "display_name": "Python 3 (ipykernel)",
   "language": "python",
   "name": "python3"
  },
  "language_info": {
   "codemirror_mode": {
    "name": "ipython",
    "version": 3
   },
   "file_extension": ".py",
   "mimetype": "text/x-python",
   "name": "python",
   "nbconvert_exporter": "python",
   "pygments_lexer": "ipython3",
   "version": "3.10.0"
  }
 },
 "nbformat": 4,
 "nbformat_minor": 5
}
