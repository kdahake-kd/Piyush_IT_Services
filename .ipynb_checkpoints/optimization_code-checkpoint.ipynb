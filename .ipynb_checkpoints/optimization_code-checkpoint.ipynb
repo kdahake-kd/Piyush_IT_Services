{
 "cells": [
  {
   "cell_type": "code",
   "execution_count": 206,
   "id": "92997760",
   "metadata": {},
   "outputs": [
    {
     "data": {
      "text/plain": [
       "age               float64\n",
       "bp                float64\n",
       "sg                float64\n",
       "al                float64\n",
       "su                float64\n",
       "rbc               float64\n",
       "pc                float64\n",
       "pcc               float64\n",
       "ba                float64\n",
       "bgr               float64\n",
       "bu                float64\n",
       "sc                float64\n",
       "sod               float64\n",
       "pot               float64\n",
       "hemo              float64\n",
       "pcv               float64\n",
       "wc                float64\n",
       "rc                float64\n",
       "htn               float64\n",
       "dm                float64\n",
       "cad               float64\n",
       "appet             float64\n",
       "pe                float64\n",
       "ane               float64\n",
       "classification      int64\n",
       "dtype: object"
      ]
     },
     "execution_count": 206,
     "metadata": {},
     "output_type": "execute_result"
    }
   ],
   "source": [
    "# Importing Libraries\n",
    "import pandas as pd\n",
    "import numpy as np\n",
    "import seaborn as sns\n",
    "import matplotlib.pyplot as plt\n",
    "from sklearn.model_selection import train_test_split\n",
    "from sklearn.ensemble import RandomForestClassifier, AdaBoostClassifier, GradientBoostingClassifier\n",
    "from sklearn.metrics import accuracy_score, confusion_matrix\n",
    "from sklearn.preprocessing import StandardScaler\n",
    "\n",
    "# Load Data\n",
    "dataset = pd.read_csv(\"Kidney_data.csv\")\n",
    "dataset = dataset.drop('id', axis=1)\n",
    "dataset.dtypes\n",
    "dataset['rbc'] = dataset['rbc'].replace(to_replace = {'normal' : 0, 'abnormal' : 1})\n",
    "dataset['pc'] = dataset['pc'].replace(to_replace = {'normal' : 0, 'abnormal' : 1})\n",
    "dataset['pcc'] = dataset['pcc'].replace(to_replace = {'notpresent':0,'present':1})\n",
    "dataset['ba'] = dataset['ba'].replace(to_replace = {'notpresent':0,'present':1})\n",
    "dataset['htn'] = dataset['htn'].replace(to_replace = {'yes' : 1, 'no' : 0})\n",
    "dataset['dm'] = dataset['dm'].replace(to_replace = {'\\tyes':'yes', ' yes':'yes', '\\tno':'no'})\n",
    "dataset['dm'] = dataset['dm'].replace(to_replace = {'yes' : 1, 'no' : 0})\n",
    "dataset['cad'] = dataset['cad'].replace(to_replace = {'\\tno':'no'})\n",
    "dataset['cad'] = dataset['cad'].replace(to_replace = {'yes' : 1, 'no' : 0})\n",
    "\n",
    "dataset['appet'] = dataset['appet'].replace(to_replace={'good':1,'poor':0,'no':np.nan})\n",
    "\n",
    "dataset['pe'] = dataset['pe'].replace(to_replace = {'yes' : 1, 'no' : 0})\n",
    "\n",
    "dataset['ane'] = dataset['ane'].replace(to_replace = {'yes' : 1, 'no' : 0})\n",
    "\n",
    "dataset['classification'] = dataset['classification'].replace(to_replace={'ckd\\t':'ckd'})\n",
    "dataset[\"classification\"] = [1 if i == \"ckd\" else 0 for i in dataset[\"classification\"]]\n",
    "\n",
    "dataset.dtypes\n",
    "\n",
    "\n",
    "dataset['pcv'] = pd.to_numeric(dataset['pcv'], errors='coerce')\n",
    "dataset['wc'] = pd.to_numeric(dataset['wc'], errors='coerce')\n",
    "dataset['rc'] = pd.to_numeric(dataset['rc'], errors='coerce')\n",
    "dataset.dtypes"
   ]
  },
  {
   "cell_type": "code",
   "execution_count": 207,
   "id": "70cf9461",
   "metadata": {},
   "outputs": [],
   "source": [
    "for feature in dataset.columns:\n",
    "    dataset[feature] = dataset[feature].fillna(dataset[feature].median())"
   ]
  },
  {
   "cell_type": "code",
   "execution_count": 208,
   "id": "6f5fd9a0",
   "metadata": {},
   "outputs": [],
   "source": [
    "X = dataset.drop('classification', axis=1)\n",
    "y = dataset['classification']"
   ]
  },
  {
   "cell_type": "code",
   "execution_count": 209,
   "id": "02b9ef29",
   "metadata": {},
   "outputs": [],
   "source": [
    "X_train, X_test, y_train, y_test = train_test_split(X, y, test_size=0.3, random_state=42)"
   ]
  },
  {
   "cell_type": "code",
   "execution_count": 210,
   "id": "409f753d",
   "metadata": {},
   "outputs": [
    {
     "name": "stdout",
     "output_type": "stream",
     "text": [
      "Random Forest Baseline Model Accuracy: 0.88\n",
      "Random Forest Baseline Confusion Matrix:\n",
      " [[44  0]\n",
      " [15 61]]\n"
     ]
    }
   ],
   "source": [
    "### RANDOM FOREST CLASSIFIER ###\n",
    "\n",
    "# Baseline Model with fewer estimators and less informative features\n",
    "rf_baseline = RandomForestClassifier(n_estimators=5, random_state=42)  # Few trees\n",
    "rf_baseline.fit(X_train[['sg', 'pc']], y_train)  # Using less informative features\n",
    "y_pred_rf_baseline = rf_baseline.predict(X_test[['sg', 'pc']])\n",
    "\n",
    "# Baseline Random Forest Model Accuracy and Confusion Matrix\n",
    "rf_baseline_accuracy = accuracy_score(y_test, y_pred_rf_baseline)\n",
    "print(f\"Random Forest Baseline Model Accuracy: {rf_baseline_accuracy:.2f}\")\n",
    "print(\"Random Forest Baseline Confusion Matrix:\\n\", confusion_matrix(y_test, y_pred_rf_baseline))"
   ]
  },
  {
   "cell_type": "code",
   "execution_count": 211,
   "id": "3ced1b51",
   "metadata": {},
   "outputs": [
    {
     "data": {
      "image/png": "[encoded data removed]",
      "text/plain": [
       "<Figure size 640x480 with 2 Axes>"
      ]
     },
     "metadata": {},
     "output_type": "display_data"
    }
   ],
   "source": [
    "# Plot Confusion Matrix for Baseline Random Forest Model\n",
    "sns.heatmap(confusion_matrix(y_test, y_pred_rf_baseline), annot=True, fmt='d', cmap='Blues')\n",
    "plt.title('Random Forest Baseline Model Confusion Matrix')\n",
    "plt.show()"
   ]
  },
  {
   "cell_type": "code",
   "execution_count": 212,
   "id": "93e0770a",
   "metadata": {},
   "outputs": [
    {
     "name": "stdout",
     "output_type": "stream",
     "text": [
      "AdaBoost Baseline Model Accuracy: 0.88\n",
      "AdaBoost Baseline Confusion Matrix:\n",
      " [[44  0]\n",
      " [15 61]]\n"
     ]
    }
   ],
   "source": [
    "### ADA BOOST CLASSIFIER ###\n",
    "\n",
    "# Baseline Model with fewer estimators\n",
    "ada_baseline = AdaBoostClassifier(n_estimators=5, random_state=42)  # Few trees\n",
    "ada_baseline.fit(X_train[['sg', 'pc']], y_train)\n",
    "y_pred_ada_baseline = ada_baseline.predict(X_test[['sg', 'pc']])\n",
    "\n",
    "# Baseline AdaBoost Model Accuracy and Confusion Matrix\n",
    "ada_baseline_accuracy = accuracy_score(y_test, y_pred_ada_baseline)\n",
    "print(f\"AdaBoost Baseline Model Accuracy: {ada_baseline_accuracy:.2f}\")\n",
    "print(\"AdaBoost Baseline Confusion Matrix:\\n\", confusion_matrix(y_test, y_pred_ada_baseline))"
   ]
  },
  {
   "cell_type": "code",
   "execution_count": 213,
   "id": "5baf8926",
   "metadata": {},
   "outputs": [
    {
     "data": {
      "image/png": "[encoded data removed]",
      "text/plain": [
       "<Figure size 640x480 with 2 Axes>"
      ]
     },
     "metadata": {},
     "output_type": "display_data"
    }
   ],
   "source": [
    "# Plot Confusion Matrix for Baseline AdaBoost Model\n",
    "sns.heatmap(confusion_matrix(y_test, y_pred_ada_baseline), annot=True, fmt='d', cmap='Blues')\n",
    "plt.title('AdaBoost Baseline Model Confusion Matrix')\n",
    "plt.show()\n"
   ]
  },
  {
   "cell_type": "code",
   "execution_count": 214,
   "id": "7a01884f",
   "metadata": {},
   "outputs": [
    {
     "name": "stdout",
     "output_type": "stream",
     "text": [
      "Gradient Boosting Baseline Model Accuracy: 0.77\n",
      "Gradient Boosting Baseline Confusion Matrix:\n",
      " [[18 26]\n",
      " [ 2 74]]\n"
     ]
    },
    {
     "data": {
      "image/png": "[encoded data removed]",
      "text/plain": [
       "<Figure size 640x480 with 2 Axes>"
      ]
     },
     "metadata": {},
     "output_type": "display_data"
    }
   ],
   "source": [
    "### GRADIENT BOOSTING CLASSIFIER ###\n",
    "\n",
    "# Baseline Model with fewer estimators\n",
    "gb_baseline = GradientBoostingClassifier(n_estimators=5, random_state=42)  # Few trees\n",
    "gb_baseline.fit(X_train[['sg', 'pc']], y_train)\n",
    "y_pred_gb_baseline = gb_baseline.predict(X_test[['sg', 'pc']])\n",
    "\n",
    "# Baseline Gradient Boosting Model Accuracy and Confusion Matrix\n",
    "gb_baseline_accuracy = accuracy_score(y_test, y_pred_gb_baseline)\n",
    "print(f\"Gradient Boosting Baseline Model Accuracy: {gb_baseline_accuracy:.2f}\")\n",
    "print(\"Gradient Boosting Baseline Confusion Matrix:\\n\", confusion_matrix(y_test, y_pred_gb_baseline))\n",
    "\n",
    "# Plot Confusion Matrix for Baseline Gradient Boosting Model\n",
    "sns.heatmap(confusion_matrix(y_test, y_pred_gb_baseline), annot=True, fmt='d', cmap='Blues')\n",
    "plt.title('Gradient Boosting Baseline Model Confusion Matrix')\n",
    "plt.show()"
   ]
  },
  {
   "cell_type": "code",
   "execution_count": 215,
   "id": "5cb798cb",
   "metadata": {},
   "outputs": [],
   "source": [
    "from sklearn.ensemble import GradientBoostingClassifier\n",
    "from sklearn.svm import SVC\n",
    "from sklearn.neighbors import KNeighborsClassifier"
   ]
  },
  {
   "cell_type": "code",
   "execution_count": 216,
   "id": "4f3fa9ac",
   "metadata": {},
   "outputs": [
    {
     "name": "stdout",
     "output_type": "stream",
     "text": [
      "SVM Baseline Model Accuracy: 0.63\n",
      "SVM Baseline Confusion Matrix:\n",
      " [[ 0 44]\n",
      " [ 0 76]]\n"
     ]
    }
   ],
   "source": [
    "# Baseline Model (SVM without feature selection or scaling)\n",
    "svm_baseline = SVC(random_state=42)\n",
    "svm_baseline.fit(X_train, y_train)\n",
    "y_pred_svm_baseline = svm_baseline.predict(X_test)\n",
    "\n",
    "# Baseline SVM Model Accuracy and Confusion Matrix\n",
    "svm_baseline_accuracy = accuracy_score(y_test, y_pred_svm_baseline)\n",
    "print(f\"SVM Baseline Model Accuracy: {svm_baseline_accuracy:.2f}\")\n",
    "print(\"SVM Baseline Confusion Matrix:\\n\", confusion_matrix(y_test, y_pred_svm_baseline))"
   ]
  },
  {
   "cell_type": "code",
   "execution_count": 217,
   "id": "896b4634",
   "metadata": {},
   "outputs": [
    {
     "data": {
      "image/png": "[encoded data removed]",
      "text/plain": [
       "<Figure size 640x480 with 2 Axes>"
      ]
     },
     "metadata": {},
     "output_type": "display_data"
    }
   ],
   "source": [
    "# Plot Confusion Matrix for Baseline Gradient Boosting Model\n",
    "sns.heatmap(confusion_matrix(y_test, y_pred_gb_baseline), annot=True, fmt='d', cmap='Blues')\n",
    "plt.title('Gradient Boosting Baseline Model Confusion Matrix')\n",
    "plt.show()\n",
    "\n",
    "\n",
    "\n"
   ]
  },
  {
   "cell_type": "code",
   "execution_count": 218,
   "id": "4b2f3c06",
   "metadata": {},
   "outputs": [
    {
     "name": "stdout",
     "output_type": "stream",
     "text": [
      "KNN Baseline Model Accuracy: 0.72\n",
      "KNN Baseline Confusion Matrix:\n",
      " [[37  7]\n",
      " [27 49]]\n"
     ]
    }
   ],
   "source": [
    "### K-NEAREST NEIGHBORS (KNN) ###\n",
    "\n",
    "# Baseline Model (KNN without feature selection or scaling)\n",
    "knn_baseline = KNeighborsClassifier()\n",
    "knn_baseline.fit(X_train, y_train)\n",
    "y_pred_knn_baseline = knn_baseline.predict(X_test)\n",
    "\n",
    "# Baseline KNN Model Accuracy and Confusion Matrix\n",
    "knn_baseline_accuracy = accuracy_score(y_test, y_pred_knn_baseline)\n",
    "print(f\"KNN Baseline Model Accuracy: {knn_baseline_accuracy:.2f}\")\n",
    "print(\"KNN Baseline Confusion Matrix:\\n\", confusion_matrix(y_test, y_pred_knn_baseline))"
   ]
  },
  {
   "cell_type": "code",
   "execution_count": 219,
   "id": "07792c5d",
   "metadata": {},
   "outputs": [
    {
     "data": {
      "image/png": "[encoded data removed]",
      "text/plain": [
       "<Figure size 640x480 with 2 Axes>"
      ]
     },
     "metadata": {},
     "output_type": "display_data"
    }
   ],
   "source": [
    "# Plot Confusion Matrix for Baseline KNN Model\n",
    "sns.heatmap(confusion_matrix(y_test, y_pred_knn_baseline), annot=True, fmt='d', cmap='Blues')\n",
    "plt.title('KNN Baseline Model Confusion Matrix')\n",
    "plt.show()"
   ]
  },
  {
   "cell_type": "code",
   "execution_count": 220,
   "id": "df0b2102",
   "metadata": {},
   "outputs": [
    {
     "name": "stderr",
     "output_type": "stream",
     "text": [
      "/var/folders/6j/ctsgnxrx4r7ft9b56b774tfm0000gn/T/ipykernel_8393/953392914.py:6: FutureWarning: \n",
      "\n",
      "Passing `palette` without assigning `hue` is deprecated and will be removed in v0.14.0. Assign the `x` variable to `hue` and set `legend=False` for the same effect.\n",
      "\n",
      "  sns.barplot(x=models_baseline, y=accuracies_baseline, palette='Set2')\n"
     ]
    },
    {
     "data": {
      "image/png": "[encoded data removed]",
      "text/plain": [
       "<Figure size 1000x600 with 1 Axes>"
      ]
     },
     "metadata": {},
     "output_type": "display_data"
    }
   ],
   "source": [
    "# Comparison of performance across baseline models only\n",
    "plt.figure(figsize=(10, 6))\n",
    "models_baseline = ['RF Baseline', 'GB Baseline', 'SVM Baseline', 'KNN Baseline', 'AdaBoost Baseline']\n",
    "accuracies_baseline = [rf_baseline_accuracy, gb_baseline_accuracy, svm_baseline_accuracy, knn_baseline_accuracy, ada_baseline_accuracy]\n",
    "\n",
    "sns.barplot(x=models_baseline, y=accuracies_baseline, palette='Set2')\n",
    "plt.ylim(0, 1)\n",
    "plt.title('Accuracy Comparison Across Baseline Models')\n",
    "plt.ylabel('Accuracy')\n",
    "plt.xticks(rotation=45)\n",
    "plt.show()\n"
   ]
  },
  {
   "cell_type": "code",
   "execution_count": 221,
   "id": "da6b5905",
   "metadata": {},
   "outputs": [],
   "source": [
    "# Importing Libraries:\n",
    "import pandas as pd\n",
    "import numpy as np\n",
    "import seaborn as sns\n",
    "import matplotlib.pyplot as plt"
   ]
  },
  {
   "cell_type": "code",
   "execution_count": 222,
   "id": "55dc6f8f",
   "metadata": {},
   "outputs": [],
   "source": [
    "# for displaying all feature from dataset:\n",
    "pd.pandas.set_option('display.max_columns', None)"
   ]
  },
  {
   "cell_type": "code",
   "execution_count": 223,
   "id": "352f5c96",
   "metadata": {},
   "outputs": [
    {
     "data": {
      "text/html": [
       "<div>\n",
       "<style scoped>\n",
       "    .dataframe tbody tr th:only-of-type {\n",
       "        vertical-align: middle;\n",
       "    }\n",
       "\n",
       "    .dataframe tbody tr th {\n",
       "        vertical-align: top;\n",
       "    }\n",
       "\n",
       "    .dataframe thead th {\n",
       "        text-align: right;\n",
       "    }\n",
       "</style>\n",
       "<table border=\"1\" class=\"dataframe\">\n",
       "  <thead>\n",
       "    <tr style=\"text-align: right;\">\n",
       "      <th></th>\n",
       "      <th>id</th>\n",
       "      <th>age</th>\n",
       "      <th>bp</th>\n",
       "      <th>sg</th>\n",
       "      <th>al</th>\n",
       "      <th>su</th>\n",
       "      <th>rbc</th>\n",
       "      <th>pc</th>\n",
       "      <th>pcc</th>\n",
       "      <th>ba</th>\n",
       "      <th>bgr</th>\n",
       "      <th>bu</th>\n",
       "      <th>sc</th>\n",
       "      <th>sod</th>\n",
       "      <th>pot</th>\n",
       "      <th>hemo</th>\n",
       "      <th>pcv</th>\n",
       "      <th>wc</th>\n",
       "      <th>rc</th>\n",
       "      <th>htn</th>\n",
       "      <th>dm</th>\n",
       "      <th>cad</th>\n",
       "      <th>appet</th>\n",
       "      <th>pe</th>\n",
       "      <th>ane</th>\n",
       "      <th>classification</th>\n",
       "    </tr>\n",
       "  </thead>\n",
       "  <tbody>\n",
       "    <tr>\n",
       "      <th>0</th>\n",
       "      <td>0</td>\n",
       "      <td>48.0</td>\n",
       "      <td>80.0</td>\n",
       "      <td>1.020</td>\n",
       "      <td>1.0</td>\n",
       "      <td>0.0</td>\n",
       "      <td>NaN</td>\n",
       "      <td>normal</td>\n",
       "      <td>notpresent</td>\n",
       "      <td>notpresent</td>\n",
       "      <td>121.0</td>\n",
       "      <td>36.0</td>\n",
       "      <td>1.2</td>\n",
       "      <td>NaN</td>\n",
       "      <td>NaN</td>\n",
       "      <td>15.4</td>\n",
       "      <td>44</td>\n",
       "      <td>7800</td>\n",
       "      <td>5.2</td>\n",
       "      <td>yes</td>\n",
       "      <td>yes</td>\n",
       "      <td>no</td>\n",
       "      <td>good</td>\n",
       "      <td>no</td>\n",
       "      <td>no</td>\n",
       "      <td>ckd</td>\n",
       "    </tr>\n",
       "    <tr>\n",
       "      <th>1</th>\n",
       "      <td>1</td>\n",
       "      <td>7.0</td>\n",
       "      <td>50.0</td>\n",
       "      <td>1.020</td>\n",
       "      <td>4.0</td>\n",
       "      <td>0.0</td>\n",
       "      <td>NaN</td>\n",
       "      <td>normal</td>\n",
       "      <td>notpresent</td>\n",
       "      <td>notpresent</td>\n",
       "      <td>NaN</td>\n",
       "      <td>18.0</td>\n",
       "      <td>0.8</td>\n",
       "      <td>NaN</td>\n",
       "      <td>NaN</td>\n",
       "      <td>11.3</td>\n",
       "      <td>38</td>\n",
       "      <td>6000</td>\n",
       "      <td>NaN</td>\n",
       "      <td>no</td>\n",
       "      <td>no</td>\n",
       "      <td>no</td>\n",
       "      <td>good</td>\n",
       "      <td>no</td>\n",
       "      <td>no</td>\n",
       "      <td>ckd</td>\n",
       "    </tr>\n",
       "    <tr>\n",
       "      <th>2</th>\n",
       "      <td>2</td>\n",
       "      <td>62.0</td>\n",
       "      <td>80.0</td>\n",
       "      <td>1.010</td>\n",
       "      <td>2.0</td>\n",
       "      <td>3.0</td>\n",
       "      <td>normal</td>\n",
       "      <td>normal</td>\n",
       "      <td>notpresent</td>\n",
       "      <td>notpresent</td>\n",
       "      <td>423.0</td>\n",
       "      <td>53.0</td>\n",
       "      <td>1.8</td>\n",
       "      <td>NaN</td>\n",
       "      <td>NaN</td>\n",
       "      <td>9.6</td>\n",
       "      <td>31</td>\n",
       "      <td>7500</td>\n",
       "      <td>NaN</td>\n",
       "      <td>no</td>\n",
       "      <td>yes</td>\n",
       "      <td>no</td>\n",
       "      <td>poor</td>\n",
       "      <td>no</td>\n",
       "      <td>yes</td>\n",
       "      <td>ckd</td>\n",
       "    </tr>\n",
       "    <tr>\n",
       "      <th>3</th>\n",
       "      <td>3</td>\n",
       "      <td>48.0</td>\n",
       "      <td>70.0</td>\n",
       "      <td>1.005</td>\n",
       "      <td>4.0</td>\n",
       "      <td>0.0</td>\n",
       "      <td>normal</td>\n",
       "      <td>abnormal</td>\n",
       "      <td>present</td>\n",
       "      <td>notpresent</td>\n",
       "      <td>117.0</td>\n",
       "      <td>56.0</td>\n",
       "      <td>3.8</td>\n",
       "      <td>111.0</td>\n",
       "      <td>2.5</td>\n",
       "      <td>11.2</td>\n",
       "      <td>32</td>\n",
       "      <td>6700</td>\n",
       "      <td>3.9</td>\n",
       "      <td>yes</td>\n",
       "      <td>no</td>\n",
       "      <td>no</td>\n",
       "      <td>poor</td>\n",
       "      <td>yes</td>\n",
       "      <td>yes</td>\n",
       "      <td>ckd</td>\n",
       "    </tr>\n",
       "    <tr>\n",
       "      <th>4</th>\n",
       "      <td>4</td>\n",
       "      <td>51.0</td>\n",
       "      <td>80.0</td>\n",
       "      <td>1.010</td>\n",
       "      <td>2.0</td>\n",
       "      <td>0.0</td>\n",
       "      <td>normal</td>\n",
       "      <td>normal</td>\n",
       "      <td>notpresent</td>\n",
       "      <td>notpresent</td>\n",
       "      <td>106.0</td>\n",
       "      <td>26.0</td>\n",
       "      <td>1.4</td>\n",
       "      <td>NaN</td>\n",
       "      <td>NaN</td>\n",
       "      <td>11.6</td>\n",
       "      <td>35</td>\n",
       "      <td>7300</td>\n",
       "      <td>4.6</td>\n",
       "      <td>no</td>\n",
       "      <td>no</td>\n",
       "      <td>no</td>\n",
       "      <td>good</td>\n",
       "      <td>no</td>\n",
       "      <td>no</td>\n",
       "      <td>ckd</td>\n",
       "    </tr>\n",
       "  </tbody>\n",
       "</table>\n",
       "</div>"
      ],
      "text/plain": [
       "   id   age    bp     sg   al   su     rbc        pc         pcc          ba  \\\n",
       "0   0  48.0  80.0  1.020  1.0  0.0     NaN    normal  notpresent  notpresent   \n",
       "1   1   7.0  50.0  1.020  4.0  0.0     NaN    normal  notpresent  notpresent   \n",
       "2   2  62.0  80.0  1.010  2.0  3.0  normal    normal  notpresent  notpresent   \n",
       "3   3  48.0  70.0  1.005  4.0  0.0  normal  abnormal     present  notpresent   \n",
       "4   4  51.0  80.0  1.010  2.0  0.0  normal    normal  notpresent  notpresent   \n",
       "\n",
       "     bgr    bu   sc    sod  pot  hemo pcv    wc   rc  htn   dm cad appet   pe  \\\n",
       "0  121.0  36.0  1.2    NaN  NaN  15.4  44  7800  5.2  yes  yes  no  good   no   \n",
       "1    NaN  18.0  0.8    NaN  NaN  11.3  38  6000  NaN   no   no  no  good   no   \n",
       "2  423.0  53.0  1.8    NaN  NaN   9.6  31  7500  NaN   no  yes  no  poor   no   \n",
       "3  117.0  56.0  3.8  111.0  2.5  11.2  32  6700  3.9  yes   no  no  poor  yes   \n",
       "4  106.0  26.0  1.4    NaN  NaN  11.6  35  7300  4.6   no   no  no  good   no   \n",
       "\n",
       "   ane classification  \n",
       "0   no            ckd  \n",
       "1   no            ckd  \n",
       "2  yes            ckd  \n",
       "3  yes            ckd  \n",
       "4   no            ckd  "
      ]
     },
     "execution_count": 223,
     "metadata": {},
     "output_type": "execute_result"
    }
   ],
   "source": [
    "# Reading Dataset:\n",
    "dataset = pd.read_csv(\"Kidney_data.csv\")\n",
    "# Top 5 records:\n",
    "dataset.head()"
   ]
  },
  {
   "cell_type": "code",
   "execution_count": 224,
   "id": "3dccde61",
   "metadata": {},
   "outputs": [],
   "source": [
    "# Dropping unneccsary feature :\n",
    "dataset = dataset.drop('id', axis=1)"
   ]
  },
  {
   "cell_type": "code",
   "execution_count": 225,
   "id": "8b1a127d",
   "metadata": {},
   "outputs": [
    {
     "data": {
      "text/plain": [
       "(400, 25)"
      ]
     },
     "execution_count": 225,
     "metadata": {},
     "output_type": "execute_result"
    }
   ],
   "source": [
    "# Shape of dataset:\n",
    "dataset.shape"
   ]
  },
  {
   "cell_type": "code",
   "execution_count": 141,
   "id": "6ffd04dc",
   "metadata": {},
   "outputs": [
    {
     "data": {
      "text/plain": [
       "age                 9\n",
       "bp                 12\n",
       "sg                 47\n",
       "al                 46\n",
       "su                 49\n",
       "rbc               152\n",
       "pc                 65\n",
       "pcc                 4\n",
       "ba                  4\n",
       "bgr                44\n",
       "bu                 19\n",
       "sc                 17\n",
       "sod                87\n",
       "pot                88\n",
       "hemo               52\n",
       "pcv                70\n",
       "wc                105\n",
       "rc                130\n",
       "htn                 2\n",
       "dm                  2\n",
       "cad                 2\n",
       "appet               1\n",
       "pe                  1\n",
       "ane                 1\n",
       "classification      0\n",
       "dtype: int64"
      ]
     },
     "execution_count": 141,
     "metadata": {},
     "output_type": "execute_result"
    }
   ],
   "source": [
    "# Cheaking Missing (NaN) Values:\n",
    "dataset.isnull().sum()\n"
   ]
  },
  {
   "cell_type": "code",
   "execution_count": 226,
   "id": "bc89ee78",
   "metadata": {},
   "outputs": [
    {
     "data": {
      "text/html": [
       "<div>\n",
       "<style scoped>\n",
       "    .dataframe tbody tr th:only-of-type {\n",
       "        vertical-align: middle;\n",
       "    }\n",
       "\n",
       "    .dataframe tbody tr th {\n",
       "        vertical-align: top;\n",
       "    }\n",
       "\n",
       "    .dataframe thead th {\n",
       "        text-align: right;\n",
       "    }\n",
       "</style>\n",
       "<table border=\"1\" class=\"dataframe\">\n",
       "  <thead>\n",
       "    <tr style=\"text-align: right;\">\n",
       "      <th></th>\n",
       "      <th>age</th>\n",
       "      <th>bp</th>\n",
       "      <th>sg</th>\n",
       "      <th>al</th>\n",
       "      <th>su</th>\n",
       "      <th>bgr</th>\n",
       "      <th>bu</th>\n",
       "      <th>sc</th>\n",
       "      <th>sod</th>\n",
       "      <th>pot</th>\n",
       "      <th>hemo</th>\n",
       "    </tr>\n",
       "  </thead>\n",
       "  <tbody>\n",
       "    <tr>\n",
       "      <th>count</th>\n",
       "      <td>391.000000</td>\n",
       "      <td>388.000000</td>\n",
       "      <td>353.000000</td>\n",
       "      <td>354.000000</td>\n",
       "      <td>351.000000</td>\n",
       "      <td>356.000000</td>\n",
       "      <td>381.000000</td>\n",
       "      <td>383.000000</td>\n",
       "      <td>313.000000</td>\n",
       "      <td>312.000000</td>\n",
       "      <td>348.000000</td>\n",
       "    </tr>\n",
       "    <tr>\n",
       "      <th>mean</th>\n",
       "      <td>51.483376</td>\n",
       "      <td>76.469072</td>\n",
       "      <td>1.017408</td>\n",
       "      <td>1.016949</td>\n",
       "      <td>0.450142</td>\n",
       "      <td>148.036517</td>\n",
       "      <td>57.425722</td>\n",
       "      <td>3.072454</td>\n",
       "      <td>137.528754</td>\n",
       "      <td>4.627244</td>\n",
       "      <td>12.526437</td>\n",
       "    </tr>\n",
       "    <tr>\n",
       "      <th>std</th>\n",
       "      <td>17.169714</td>\n",
       "      <td>13.683637</td>\n",
       "      <td>0.005717</td>\n",
       "      <td>1.352679</td>\n",
       "      <td>1.099191</td>\n",
       "      <td>79.281714</td>\n",
       "      <td>50.503006</td>\n",
       "      <td>5.741126</td>\n",
       "      <td>10.408752</td>\n",
       "      <td>3.193904</td>\n",
       "      <td>2.912587</td>\n",
       "    </tr>\n",
       "    <tr>\n",
       "      <th>min</th>\n",
       "      <td>2.000000</td>\n",
       "      <td>50.000000</td>\n",
       "      <td>1.005000</td>\n",
       "      <td>0.000000</td>\n",
       "      <td>0.000000</td>\n",
       "      <td>22.000000</td>\n",
       "      <td>1.500000</td>\n",
       "      <td>0.400000</td>\n",
       "      <td>4.500000</td>\n",
       "      <td>2.500000</td>\n",
       "      <td>3.100000</td>\n",
       "    </tr>\n",
       "    <tr>\n",
       "      <th>25%</th>\n",
       "      <td>42.000000</td>\n",
       "      <td>70.000000</td>\n",
       "      <td>1.010000</td>\n",
       "      <td>0.000000</td>\n",
       "      <td>0.000000</td>\n",
       "      <td>99.000000</td>\n",
       "      <td>27.000000</td>\n",
       "      <td>0.900000</td>\n",
       "      <td>135.000000</td>\n",
       "      <td>3.800000</td>\n",
       "      <td>10.300000</td>\n",
       "    </tr>\n",
       "    <tr>\n",
       "      <th>50%</th>\n",
       "      <td>55.000000</td>\n",
       "      <td>80.000000</td>\n",
       "      <td>1.020000</td>\n",
       "      <td>0.000000</td>\n",
       "      <td>0.000000</td>\n",
       "      <td>121.000000</td>\n",
       "      <td>42.000000</td>\n",
       "      <td>1.300000</td>\n",
       "      <td>138.000000</td>\n",
       "      <td>4.400000</td>\n",
       "      <td>12.650000</td>\n",
       "    </tr>\n",
       "    <tr>\n",
       "      <th>75%</th>\n",
       "      <td>64.500000</td>\n",
       "      <td>80.000000</td>\n",
       "      <td>1.020000</td>\n",
       "      <td>2.000000</td>\n",
       "      <td>0.000000</td>\n",
       "      <td>163.000000</td>\n",
       "      <td>66.000000</td>\n",
       "      <td>2.800000</td>\n",
       "      <td>142.000000</td>\n",
       "      <td>4.900000</td>\n",
       "      <td>15.000000</td>\n",
       "    </tr>\n",
       "    <tr>\n",
       "      <th>max</th>\n",
       "      <td>90.000000</td>\n",
       "      <td>180.000000</td>\n",
       "      <td>1.025000</td>\n",
       "      <td>5.000000</td>\n",
       "      <td>5.000000</td>\n",
       "      <td>490.000000</td>\n",
       "      <td>391.000000</td>\n",
       "      <td>76.000000</td>\n",
       "      <td>163.000000</td>\n",
       "      <td>47.000000</td>\n",
       "      <td>17.800000</td>\n",
       "    </tr>\n",
       "  </tbody>\n",
       "</table>\n",
       "</div>"
      ],
      "text/plain": [
       "              age          bp          sg          al          su         bgr  \\\n",
       "count  391.000000  388.000000  353.000000  354.000000  351.000000  356.000000   \n",
       "mean    51.483376   76.469072    1.017408    1.016949    0.450142  148.036517   \n",
       "std     17.169714   13.683637    0.005717    1.352679    1.099191   79.281714   \n",
       "min      2.000000   50.000000    1.005000    0.000000    0.000000   22.000000   \n",
       "25%     42.000000   70.000000    1.010000    0.000000    0.000000   99.000000   \n",
       "50%     55.000000   80.000000    1.020000    0.000000    0.000000  121.000000   \n",
       "75%     64.500000   80.000000    1.020000    2.000000    0.000000  163.000000   \n",
       "max     90.000000  180.000000    1.025000    5.000000    5.000000  490.000000   \n",
       "\n",
       "               bu          sc         sod         pot        hemo  \n",
       "count  381.000000  383.000000  313.000000  312.000000  348.000000  \n",
       "mean    57.425722    3.072454  137.528754    4.627244   12.526437  \n",
       "std     50.503006    5.741126   10.408752    3.193904    2.912587  \n",
       "min      1.500000    0.400000    4.500000    2.500000    3.100000  \n",
       "25%     27.000000    0.900000  135.000000    3.800000   10.300000  \n",
       "50%     42.000000    1.300000  138.000000    4.400000   12.650000  \n",
       "75%     66.000000    2.800000  142.000000    4.900000   15.000000  \n",
       "max    391.000000   76.000000  163.000000   47.000000   17.800000  "
      ]
     },
     "execution_count": 226,
     "metadata": {},
     "output_type": "execute_result"
    }
   ],
   "source": [
    "# Description:\n",
    "dataset.describe()"
   ]
  },
  {
   "cell_type": "code",
   "execution_count": 227,
   "id": "d105a9dc",
   "metadata": {},
   "outputs": [
    {
     "data": {
      "text/plain": [
       "age               float64\n",
       "bp                float64\n",
       "sg                float64\n",
       "al                float64\n",
       "su                float64\n",
       "rbc                object\n",
       "pc                 object\n",
       "pcc                object\n",
       "ba                 object\n",
       "bgr               float64\n",
       "bu                float64\n",
       "sc                float64\n",
       "sod               float64\n",
       "pot               float64\n",
       "hemo              float64\n",
       "pcv                object\n",
       "wc                 object\n",
       "rc                 object\n",
       "htn                object\n",
       "dm                 object\n",
       "cad                object\n",
       "appet              object\n",
       "pe                 object\n",
       "ane                object\n",
       "classification     object\n",
       "dtype: object"
      ]
     },
     "execution_count": 227,
     "metadata": {},
     "output_type": "execute_result"
    }
   ],
   "source": [
    "# Datatypes:\n",
    "dataset.dtypes"
   ]
  },
  {
   "cell_type": "code",
   "execution_count": 228,
   "id": "22d39193",
   "metadata": {},
   "outputs": [
    {
     "data": {
      "text/html": [
       "<div>\n",
       "<style scoped>\n",
       "    .dataframe tbody tr th:only-of-type {\n",
       "        vertical-align: middle;\n",
       "    }\n",
       "\n",
       "    .dataframe tbody tr th {\n",
       "        vertical-align: top;\n",
       "    }\n",
       "\n",
       "    .dataframe thead th {\n",
       "        text-align: right;\n",
       "    }\n",
       "</style>\n",
       "<table border=\"1\" class=\"dataframe\">\n",
       "  <thead>\n",
       "    <tr style=\"text-align: right;\">\n",
       "      <th></th>\n",
       "      <th>age</th>\n",
       "      <th>bp</th>\n",
       "      <th>sg</th>\n",
       "      <th>al</th>\n",
       "      <th>su</th>\n",
       "      <th>rbc</th>\n",
       "      <th>pc</th>\n",
       "      <th>pcc</th>\n",
       "      <th>ba</th>\n",
       "      <th>bgr</th>\n",
       "      <th>bu</th>\n",
       "      <th>sc</th>\n",
       "      <th>sod</th>\n",
       "      <th>pot</th>\n",
       "      <th>hemo</th>\n",
       "      <th>pcv</th>\n",
       "      <th>wc</th>\n",
       "      <th>rc</th>\n",
       "      <th>htn</th>\n",
       "      <th>dm</th>\n",
       "      <th>cad</th>\n",
       "      <th>appet</th>\n",
       "      <th>pe</th>\n",
       "      <th>ane</th>\n",
       "      <th>classification</th>\n",
       "    </tr>\n",
       "  </thead>\n",
       "  <tbody>\n",
       "    <tr>\n",
       "      <th>0</th>\n",
       "      <td>48.0</td>\n",
       "      <td>80.0</td>\n",
       "      <td>1.020</td>\n",
       "      <td>1.0</td>\n",
       "      <td>0.0</td>\n",
       "      <td>NaN</td>\n",
       "      <td>normal</td>\n",
       "      <td>notpresent</td>\n",
       "      <td>notpresent</td>\n",
       "      <td>121.0</td>\n",
       "      <td>36.0</td>\n",
       "      <td>1.2</td>\n",
       "      <td>NaN</td>\n",
       "      <td>NaN</td>\n",
       "      <td>15.4</td>\n",
       "      <td>44</td>\n",
       "      <td>7800</td>\n",
       "      <td>5.2</td>\n",
       "      <td>yes</td>\n",
       "      <td>yes</td>\n",
       "      <td>no</td>\n",
       "      <td>good</td>\n",
       "      <td>no</td>\n",
       "      <td>no</td>\n",
       "      <td>ckd</td>\n",
       "    </tr>\n",
       "    <tr>\n",
       "      <th>1</th>\n",
       "      <td>7.0</td>\n",
       "      <td>50.0</td>\n",
       "      <td>1.020</td>\n",
       "      <td>4.0</td>\n",
       "      <td>0.0</td>\n",
       "      <td>NaN</td>\n",
       "      <td>normal</td>\n",
       "      <td>notpresent</td>\n",
       "      <td>notpresent</td>\n",
       "      <td>NaN</td>\n",
       "      <td>18.0</td>\n",
       "      <td>0.8</td>\n",
       "      <td>NaN</td>\n",
       "      <td>NaN</td>\n",
       "      <td>11.3</td>\n",
       "      <td>38</td>\n",
       "      <td>6000</td>\n",
       "      <td>NaN</td>\n",
       "      <td>no</td>\n",
       "      <td>no</td>\n",
       "      <td>no</td>\n",
       "      <td>good</td>\n",
       "      <td>no</td>\n",
       "      <td>no</td>\n",
       "      <td>ckd</td>\n",
       "    </tr>\n",
       "    <tr>\n",
       "      <th>2</th>\n",
       "      <td>62.0</td>\n",
       "      <td>80.0</td>\n",
       "      <td>1.010</td>\n",
       "      <td>2.0</td>\n",
       "      <td>3.0</td>\n",
       "      <td>normal</td>\n",
       "      <td>normal</td>\n",
       "      <td>notpresent</td>\n",
       "      <td>notpresent</td>\n",
       "      <td>423.0</td>\n",
       "      <td>53.0</td>\n",
       "      <td>1.8</td>\n",
       "      <td>NaN</td>\n",
       "      <td>NaN</td>\n",
       "      <td>9.6</td>\n",
       "      <td>31</td>\n",
       "      <td>7500</td>\n",
       "      <td>NaN</td>\n",
       "      <td>no</td>\n",
       "      <td>yes</td>\n",
       "      <td>no</td>\n",
       "      <td>poor</td>\n",
       "      <td>no</td>\n",
       "      <td>yes</td>\n",
       "      <td>ckd</td>\n",
       "    </tr>\n",
       "    <tr>\n",
       "      <th>3</th>\n",
       "      <td>48.0</td>\n",
       "      <td>70.0</td>\n",
       "      <td>1.005</td>\n",
       "      <td>4.0</td>\n",
       "      <td>0.0</td>\n",
       "      <td>normal</td>\n",
       "      <td>abnormal</td>\n",
       "      <td>present</td>\n",
       "      <td>notpresent</td>\n",
       "      <td>117.0</td>\n",
       "      <td>56.0</td>\n",
       "      <td>3.8</td>\n",
       "      <td>111.0</td>\n",
       "      <td>2.5</td>\n",
       "      <td>11.2</td>\n",
       "      <td>32</td>\n",
       "      <td>6700</td>\n",
       "      <td>3.9</td>\n",
       "      <td>yes</td>\n",
       "      <td>no</td>\n",
       "      <td>no</td>\n",
       "      <td>poor</td>\n",
       "      <td>yes</td>\n",
       "      <td>yes</td>\n",
       "      <td>ckd</td>\n",
       "    </tr>\n",
       "    <tr>\n",
       "      <th>4</th>\n",
       "      <td>51.0</td>\n",
       "      <td>80.0</td>\n",
       "      <td>1.010</td>\n",
       "      <td>2.0</td>\n",
       "      <td>0.0</td>\n",
       "      <td>normal</td>\n",
       "      <td>normal</td>\n",
       "      <td>notpresent</td>\n",
       "      <td>notpresent</td>\n",
       "      <td>106.0</td>\n",
       "      <td>26.0</td>\n",
       "      <td>1.4</td>\n",
       "      <td>NaN</td>\n",
       "      <td>NaN</td>\n",
       "      <td>11.6</td>\n",
       "      <td>35</td>\n",
       "      <td>7300</td>\n",
       "      <td>4.6</td>\n",
       "      <td>no</td>\n",
       "      <td>no</td>\n",
       "      <td>no</td>\n",
       "      <td>good</td>\n",
       "      <td>no</td>\n",
       "      <td>no</td>\n",
       "      <td>ckd</td>\n",
       "    </tr>\n",
       "  </tbody>\n",
       "</table>\n",
       "</div>"
      ],
      "text/plain": [
       "    age    bp     sg   al   su     rbc        pc         pcc          ba  \\\n",
       "0  48.0  80.0  1.020  1.0  0.0     NaN    normal  notpresent  notpresent   \n",
       "1   7.0  50.0  1.020  4.0  0.0     NaN    normal  notpresent  notpresent   \n",
       "2  62.0  80.0  1.010  2.0  3.0  normal    normal  notpresent  notpresent   \n",
       "3  48.0  70.0  1.005  4.0  0.0  normal  abnormal     present  notpresent   \n",
       "4  51.0  80.0  1.010  2.0  0.0  normal    normal  notpresent  notpresent   \n",
       "\n",
       "     bgr    bu   sc    sod  pot  hemo pcv    wc   rc  htn   dm cad appet   pe  \\\n",
       "0  121.0  36.0  1.2    NaN  NaN  15.4  44  7800  5.2  yes  yes  no  good   no   \n",
       "1    NaN  18.0  0.8    NaN  NaN  11.3  38  6000  NaN   no   no  no  good   no   \n",
       "2  423.0  53.0  1.8    NaN  NaN   9.6  31  7500  NaN   no  yes  no  poor   no   \n",
       "3  117.0  56.0  3.8  111.0  2.5  11.2  32  6700  3.9  yes   no  no  poor  yes   \n",
       "4  106.0  26.0  1.4    NaN  NaN  11.6  35  7300  4.6   no   no  no  good   no   \n",
       "\n",
       "   ane classification  \n",
       "0   no            ckd  \n",
       "1   no            ckd  \n",
       "2  yes            ckd  \n",
       "3  yes            ckd  \n",
       "4   no            ckd  "
      ]
     },
     "execution_count": 228,
     "metadata": {},
     "output_type": "execute_result"
    }
   ],
   "source": [
    "dataset.head()"
   ]
  },
  {
   "cell_type": "code",
   "execution_count": 229,
   "id": "c0a202f7",
   "metadata": {},
   "outputs": [
    {
     "data": {
      "text/plain": [
       "normal      201\n",
       "abnormal     47\n",
       "Name: rbc, dtype: int64"
      ]
     },
     "execution_count": 229,
     "metadata": {},
     "output_type": "execute_result"
    }
   ],
   "source": [
    "dataset['rbc'].value_counts()"
   ]
  },
  {
   "cell_type": "code",
   "execution_count": 230,
   "id": "0c5b1097",
   "metadata": {},
   "outputs": [],
   "source": [
    "dataset['rbc'] = dataset['rbc'].replace(to_replace = {'normal' : 0, 'abnormal' : 1})"
   ]
  },
  {
   "cell_type": "code",
   "execution_count": 231,
   "id": "ac7efc6c",
   "metadata": {},
   "outputs": [
    {
     "data": {
      "text/plain": [
       "normal      259\n",
       "abnormal     76\n",
       "Name: pc, dtype: int64"
      ]
     },
     "execution_count": 231,
     "metadata": {},
     "output_type": "execute_result"
    }
   ],
   "source": [
    "dataset['pc'].value_counts()"
   ]
  },
  {
   "cell_type": "code",
   "execution_count": 232,
   "id": "ef1559e1",
   "metadata": {},
   "outputs": [],
   "source": [
    "dataset['pc'] = dataset['pc'].replace(to_replace = {'normal' : 0, 'abnormal' : 1})\n",
    "\n"
   ]
  },
  {
   "cell_type": "code",
   "execution_count": 233,
   "id": "d51fc5ea",
   "metadata": {},
   "outputs": [
    {
     "data": {
      "text/plain": [
       "0      notpresent\n",
       "1      notpresent\n",
       "2      notpresent\n",
       "3         present\n",
       "4      notpresent\n",
       "          ...    \n",
       "395    notpresent\n",
       "396    notpresent\n",
       "397    notpresent\n",
       "398    notpresent\n",
       "399    notpresent\n",
       "Name: pcc, Length: 400, dtype: object"
      ]
     },
     "execution_count": 233,
     "metadata": {},
     "output_type": "execute_result"
    }
   ],
   "source": [
    "dataset['pcc'].value_counts()\n",
    "data=dataset['pcc']\n",
    "data"
   ]
  },
  {
   "cell_type": "code",
   "execution_count": 234,
   "id": "606b7172",
   "metadata": {},
   "outputs": [],
   "source": [
    "dataset['pcc'] = dataset['pcc'].replace(to_replace = {'notpresent':0,'present':1})"
   ]
  },
  {
   "cell_type": "code",
   "execution_count": 235,
   "id": "2b469db7",
   "metadata": {},
   "outputs": [
    {
     "data": {
      "text/plain": [
       "notpresent    374\n",
       "present        22\n",
       "Name: ba, dtype: int64"
      ]
     },
     "execution_count": 235,
     "metadata": {},
     "output_type": "execute_result"
    }
   ],
   "source": [
    "dataset['ba'].value_counts()"
   ]
  },
  {
   "cell_type": "code",
   "execution_count": 236,
   "id": "44ebb383",
   "metadata": {},
   "outputs": [
    {
     "data": {
      "text/plain": [
       "0      0.0\n",
       "1      0.0\n",
       "2      0.0\n",
       "3      0.0\n",
       "4      0.0\n",
       "      ... \n",
       "395    0.0\n",
       "396    0.0\n",
       "397    0.0\n",
       "398    0.0\n",
       "399    0.0\n",
       "Name: ba, Length: 400, dtype: float64"
      ]
     },
     "execution_count": 236,
     "metadata": {},
     "output_type": "execute_result"
    }
   ],
   "source": [
    "dataset['ba'] = dataset['ba'].replace(to_replace = {'notpresent':0,'present':1})\n",
    "data=dataset['ba']\n",
    "data"
   ]
  },
  {
   "cell_type": "code",
   "execution_count": 237,
   "id": "2d70a083",
   "metadata": {},
   "outputs": [
    {
     "data": {
      "text/plain": [
       "no     251\n",
       "yes    147\n",
       "Name: htn, dtype: int64"
      ]
     },
     "execution_count": 237,
     "metadata": {},
     "output_type": "execute_result"
    }
   ],
   "source": [
    "dataset['htn'].value_counts()"
   ]
  },
  {
   "cell_type": "code",
   "execution_count": 238,
   "id": "2acc808d",
   "metadata": {},
   "outputs": [
    {
     "data": {
      "text/plain": [
       "0      1.0\n",
       "1      0.0\n",
       "2      0.0\n",
       "3      1.0\n",
       "4      0.0\n",
       "      ... \n",
       "395    0.0\n",
       "396    0.0\n",
       "397    0.0\n",
       "398    0.0\n",
       "399    0.0\n",
       "Name: htn, Length: 400, dtype: float64"
      ]
     },
     "execution_count": 238,
     "metadata": {},
     "output_type": "execute_result"
    }
   ],
   "source": [
    "dataset['htn'] = dataset['htn'].replace(to_replace = {'yes' : 1, 'no' : 0})\n",
    "data=dataset['htn']\n",
    "data"
   ]
  },
  {
   "cell_type": "code",
   "execution_count": 239,
   "id": "e1161009",
   "metadata": {},
   "outputs": [
    {
     "data": {
      "text/plain": [
       "no       258\n",
       "yes      134\n",
       "\\tno       3\n",
       "\\tyes      2\n",
       " yes       1\n",
       "Name: dm, dtype: int64"
      ]
     },
     "execution_count": 239,
     "metadata": {},
     "output_type": "execute_result"
    }
   ],
   "source": [
    "dataset['dm'].value_counts()"
   ]
  },
  {
   "cell_type": "code",
   "execution_count": 240,
   "id": "ea103587",
   "metadata": {},
   "outputs": [],
   "source": [
    "dataset['dm'] = dataset['dm'].replace(to_replace = {'\\tyes':'yes', ' yes':'yes', '\\tno':'no'})"
   ]
  },
  {
   "cell_type": "code",
   "execution_count": 241,
   "id": "c0d47247",
   "metadata": {},
   "outputs": [],
   "source": [
    "dataset['dm'] = dataset['dm'].replace(to_replace = {'yes' : 1, 'no' : 0})"
   ]
  },
  {
   "cell_type": "code",
   "execution_count": 242,
   "id": "4aedcf06",
   "metadata": {},
   "outputs": [
    {
     "data": {
      "text/plain": [
       "no      362\n",
       "yes      34\n",
       "\\tno      2\n",
       "Name: cad, dtype: int64"
      ]
     },
     "execution_count": 242,
     "metadata": {},
     "output_type": "execute_result"
    }
   ],
   "source": [
    "dataset['cad'].value_counts()"
   ]
  },
  {
   "cell_type": "code",
   "execution_count": 246,
   "id": "36c97dd1",
   "metadata": {},
   "outputs": [],
   "source": [
    "dataset['cad'] = dataset['cad'].replace(to_replace = {'\\tno':'no'})"
   ]
  },
  {
   "cell_type": "code",
   "execution_count": 247,
   "id": "1ea124c3",
   "metadata": {},
   "outputs": [],
   "source": [
    "dataset['cad'] = dataset['cad'].replace(to_replace = {'yes' : 1, 'no' : 0})"
   ]
  },
  {
   "cell_type": "code",
   "execution_count": 248,
   "id": "0477fe18",
   "metadata": {},
   "outputs": [
    {
     "data": {
      "text/plain": [
       "array(['good', 'poor', nan], dtype=object)"
      ]
     },
     "execution_count": 248,
     "metadata": {},
     "output_type": "execute_result"
    }
   ],
   "source": [
    "dataset['appet'].unique()"
   ]
  },
  {
   "cell_type": "code",
   "execution_count": 249,
   "id": "541315c4",
   "metadata": {},
   "outputs": [],
   "source": [
    "dataset['appet'] = dataset['appet'].replace(to_replace={'good':1,'poor':0,'no':np.nan})"
   ]
  },
  {
   "cell_type": "code",
   "execution_count": 250,
   "id": "28b1e729",
   "metadata": {},
   "outputs": [
    {
     "data": {
      "text/plain": [
       "no     323\n",
       "yes     76\n",
       "Name: pe, dtype: int64"
      ]
     },
     "execution_count": 250,
     "metadata": {},
     "output_type": "execute_result"
    }
   ],
   "source": [
    "dataset['pe'].value_counts()"
   ]
  },
  {
   "cell_type": "code",
   "execution_count": 251,
   "id": "0c06157a",
   "metadata": {},
   "outputs": [],
   "source": [
    "dataset['pe'] = dataset['pe'].replace(to_replace = {'yes' : 1, 'no' : 0})"
   ]
  },
  {
   "cell_type": "code",
   "execution_count": 253,
   "id": "8d0f4a32",
   "metadata": {},
   "outputs": [
    {
     "data": {
      "text/plain": [
       "no     339\n",
       "yes     60\n",
       "Name: ane, dtype: int64"
      ]
     },
     "execution_count": 253,
     "metadata": {},
     "output_type": "execute_result"
    }
   ],
   "source": [
    "dataset['ane'].value_counts()"
   ]
  },
  {
   "cell_type": "code",
   "execution_count": 254,
   "id": "526740d0",
   "metadata": {},
   "outputs": [],
   "source": [
    "dataset['ane'] = dataset['ane'].replace(to_replace = {'yes' : 1, 'no' : 0})"
   ]
  },
  {
   "cell_type": "code",
   "execution_count": 256,
   "id": "27d2f103",
   "metadata": {},
   "outputs": [
    {
     "data": {
      "text/plain": [
       "ckd       248\n",
       "notckd    150\n",
       "ckd\\t       2\n",
       "Name: classification, dtype: int64"
      ]
     },
     "execution_count": 256,
     "metadata": {},
     "output_type": "execute_result"
    }
   ],
   "source": [
    "dataset['classification'].value_counts()"
   ]
  },
  {
   "cell_type": "code",
   "execution_count": 257,
   "id": "f0161ce0",
   "metadata": {},
   "outputs": [],
   "source": [
    "dataset['classification'] = dataset['classification'].replace(to_replace={'ckd\\t':'ckd'})"
   ]
  },
  {
   "cell_type": "code",
   "execution_count": 258,
   "id": "6bee8b24",
   "metadata": {},
   "outputs": [],
   "source": [
    "dataset[\"classification\"] = [1 if i == \"ckd\" else 0 for i in dataset[\"classification\"]]"
   ]
  },
  {
   "cell_type": "code",
   "execution_count": 259,
   "id": "ace9f689",
   "metadata": {},
   "outputs": [
    {
     "data": {
      "text/html": [
       "<div>\n",
       "<style scoped>\n",
       "    .dataframe tbody tr th:only-of-type {\n",
       "        vertical-align: middle;\n",
       "    }\n",
       "\n",
       "    .dataframe tbody tr th {\n",
       "        vertical-align: top;\n",
       "    }\n",
       "\n",
       "    .dataframe thead th {\n",
       "        text-align: right;\n",
       "    }\n",
       "</style>\n",
       "<table border=\"1\" class=\"dataframe\">\n",
       "  <thead>\n",
       "    <tr style=\"text-align: right;\">\n",
       "      <th></th>\n",
       "      <th>age</th>\n",
       "      <th>bp</th>\n",
       "      <th>sg</th>\n",
       "      <th>al</th>\n",
       "      <th>su</th>\n",
       "      <th>rbc</th>\n",
       "      <th>pc</th>\n",
       "      <th>pcc</th>\n",
       "      <th>ba</th>\n",
       "      <th>bgr</th>\n",
       "      <th>bu</th>\n",
       "      <th>sc</th>\n",
       "      <th>sod</th>\n",
       "      <th>pot</th>\n",
       "      <th>hemo</th>\n",
       "      <th>pcv</th>\n",
       "      <th>wc</th>\n",
       "      <th>rc</th>\n",
       "      <th>htn</th>\n",
       "      <th>dm</th>\n",
       "      <th>cad</th>\n",
       "      <th>appet</th>\n",
       "      <th>pe</th>\n",
       "      <th>ane</th>\n",
       "      <th>classification</th>\n",
       "    </tr>\n",
       "  </thead>\n",
       "  <tbody>\n",
       "    <tr>\n",
       "      <th>0</th>\n",
       "      <td>48.0</td>\n",
       "      <td>80.0</td>\n",
       "      <td>1.020</td>\n",
       "      <td>1.0</td>\n",
       "      <td>0.0</td>\n",
       "      <td>NaN</td>\n",
       "      <td>0.0</td>\n",
       "      <td>0.0</td>\n",
       "      <td>0.0</td>\n",
       "      <td>121.0</td>\n",
       "      <td>36.0</td>\n",
       "      <td>1.2</td>\n",
       "      <td>NaN</td>\n",
       "      <td>NaN</td>\n",
       "      <td>15.4</td>\n",
       "      <td>44</td>\n",
       "      <td>7800</td>\n",
       "      <td>5.2</td>\n",
       "      <td>1.0</td>\n",
       "      <td>1.0</td>\n",
       "      <td>0.0</td>\n",
       "      <td>1.0</td>\n",
       "      <td>0.0</td>\n",
       "      <td>0.0</td>\n",
       "      <td>1</td>\n",
       "    </tr>\n",
       "    <tr>\n",
       "      <th>1</th>\n",
       "      <td>7.0</td>\n",
       "      <td>50.0</td>\n",
       "      <td>1.020</td>\n",
       "      <td>4.0</td>\n",
       "      <td>0.0</td>\n",
       "      <td>NaN</td>\n",
       "      <td>0.0</td>\n",
       "      <td>0.0</td>\n",
       "      <td>0.0</td>\n",
       "      <td>NaN</td>\n",
       "      <td>18.0</td>\n",
       "      <td>0.8</td>\n",
       "      <td>NaN</td>\n",
       "      <td>NaN</td>\n",
       "      <td>11.3</td>\n",
       "      <td>38</td>\n",
       "      <td>6000</td>\n",
       "      <td>NaN</td>\n",
       "      <td>0.0</td>\n",
       "      <td>0.0</td>\n",
       "      <td>0.0</td>\n",
       "      <td>1.0</td>\n",
       "      <td>0.0</td>\n",
       "      <td>0.0</td>\n",
       "      <td>1</td>\n",
       "    </tr>\n",
       "    <tr>\n",
       "      <th>2</th>\n",
       "      <td>62.0</td>\n",
       "      <td>80.0</td>\n",
       "      <td>1.010</td>\n",
       "      <td>2.0</td>\n",
       "      <td>3.0</td>\n",
       "      <td>0.0</td>\n",
       "      <td>0.0</td>\n",
       "      <td>0.0</td>\n",
       "      <td>0.0</td>\n",
       "      <td>423.0</td>\n",
       "      <td>53.0</td>\n",
       "      <td>1.8</td>\n",
       "      <td>NaN</td>\n",
       "      <td>NaN</td>\n",
       "      <td>9.6</td>\n",
       "      <td>31</td>\n",
       "      <td>7500</td>\n",
       "      <td>NaN</td>\n",
       "      <td>0.0</td>\n",
       "      <td>1.0</td>\n",
       "      <td>0.0</td>\n",
       "      <td>0.0</td>\n",
       "      <td>0.0</td>\n",
       "      <td>1.0</td>\n",
       "      <td>1</td>\n",
       "    </tr>\n",
       "    <tr>\n",
       "      <th>3</th>\n",
       "      <td>48.0</td>\n",
       "      <td>70.0</td>\n",
       "      <td>1.005</td>\n",
       "      <td>4.0</td>\n",
       "      <td>0.0</td>\n",
       "      <td>0.0</td>\n",
       "      <td>1.0</td>\n",
       "      <td>1.0</td>\n",
       "      <td>0.0</td>\n",
       "      <td>117.0</td>\n",
       "      <td>56.0</td>\n",
       "      <td>3.8</td>\n",
       "      <td>111.0</td>\n",
       "      <td>2.5</td>\n",
       "      <td>11.2</td>\n",
       "      <td>32</td>\n",
       "      <td>6700</td>\n",
       "      <td>3.9</td>\n",
       "      <td>1.0</td>\n",
       "      <td>0.0</td>\n",
       "      <td>0.0</td>\n",
       "      <td>0.0</td>\n",
       "      <td>1.0</td>\n",
       "      <td>1.0</td>\n",
       "      <td>1</td>\n",
       "    </tr>\n",
       "    <tr>\n",
       "      <th>4</th>\n",
       "      <td>51.0</td>\n",
       "      <td>80.0</td>\n",
       "      <td>1.010</td>\n",
       "      <td>2.0</td>\n",
       "      <td>0.0</td>\n",
       "      <td>0.0</td>\n",
       "      <td>0.0</td>\n",
       "      <td>0.0</td>\n",
       "      <td>0.0</td>\n",
       "      <td>106.0</td>\n",
       "      <td>26.0</td>\n",
       "      <td>1.4</td>\n",
       "      <td>NaN</td>\n",
       "      <td>NaN</td>\n",
       "      <td>11.6</td>\n",
       "      <td>35</td>\n",
       "      <td>7300</td>\n",
       "      <td>4.6</td>\n",
       "      <td>0.0</td>\n",
       "      <td>0.0</td>\n",
       "      <td>0.0</td>\n",
       "      <td>1.0</td>\n",
       "      <td>0.0</td>\n",
       "      <td>0.0</td>\n",
       "      <td>1</td>\n",
       "    </tr>\n",
       "  </tbody>\n",
       "</table>\n",
       "</div>"
      ],
      "text/plain": [
       "    age    bp     sg   al   su  rbc   pc  pcc   ba    bgr    bu   sc    sod  \\\n",
       "0  48.0  80.0  1.020  1.0  0.0  NaN  0.0  0.0  0.0  121.0  36.0  1.2    NaN   \n",
       "1   7.0  50.0  1.020  4.0  0.0  NaN  0.0  0.0  0.0    NaN  18.0  0.8    NaN   \n",
       "2  62.0  80.0  1.010  2.0  3.0  0.0  0.0  0.0  0.0  423.0  53.0  1.8    NaN   \n",
       "3  48.0  70.0  1.005  4.0  0.0  0.0  1.0  1.0  0.0  117.0  56.0  3.8  111.0   \n",
       "4  51.0  80.0  1.010  2.0  0.0  0.0  0.0  0.0  0.0  106.0  26.0  1.4    NaN   \n",
       "\n",
       "   pot  hemo pcv    wc   rc  htn   dm  cad  appet   pe  ane  classification  \n",
       "0  NaN  15.4  44  7800  5.2  1.0  1.0  0.0    1.0  0.0  0.0               1  \n",
       "1  NaN  11.3  38  6000  NaN  0.0  0.0  0.0    1.0  0.0  0.0               1  \n",
       "2  NaN   9.6  31  7500  NaN  0.0  1.0  0.0    0.0  0.0  1.0               1  \n",
       "3  2.5  11.2  32  6700  3.9  1.0  0.0  0.0    0.0  1.0  1.0               1  \n",
       "4  NaN  11.6  35  7300  4.6  0.0  0.0  0.0    1.0  0.0  0.0               1  "
      ]
     },
     "execution_count": 259,
     "metadata": {},
     "output_type": "execute_result"
    }
   ],
   "source": [
    "dataset.head()"
   ]
  },
  {
   "cell_type": "code",
   "execution_count": 260,
   "id": "a83e9ae8",
   "metadata": {},
   "outputs": [
    {
     "data": {
      "text/plain": [
       "age               float64\n",
       "bp                float64\n",
       "sg                float64\n",
       "al                float64\n",
       "su                float64\n",
       "rbc               float64\n",
       "pc                float64\n",
       "pcc               float64\n",
       "ba                float64\n",
       "bgr               float64\n",
       "bu                float64\n",
       "sc                float64\n",
       "sod               float64\n",
       "pot               float64\n",
       "hemo              float64\n",
       "pcv                object\n",
       "wc                 object\n",
       "rc                 object\n",
       "htn               float64\n",
       "dm                float64\n",
       "cad               float64\n",
       "appet             float64\n",
       "pe                float64\n",
       "ane               float64\n",
       "classification      int64\n",
       "dtype: object"
      ]
     },
     "execution_count": 260,
     "metadata": {},
     "output_type": "execute_result"
    }
   ],
   "source": [
    "dataset.dtypes"
   ]
  },
  {
   "cell_type": "code",
   "execution_count": 261,
   "id": "c038a7f7",
   "metadata": {},
   "outputs": [],
   "source": [
    "dataset['pcv'] = pd.to_numeric(dataset['pcv'], errors='coerce')\n",
    "dataset['wc'] = pd.to_numeric(dataset['wc'], errors='coerce')\n",
    "dataset['rc'] = pd.to_numeric(dataset['rc'], errors='coerce')"
   ]
  },
  {
   "cell_type": "code",
   "execution_count": 262,
   "id": "7338cef2",
   "metadata": {},
   "outputs": [
    {
     "data": {
      "text/plain": [
       "age               float64\n",
       "bp                float64\n",
       "sg                float64\n",
       "al                float64\n",
       "su                float64\n",
       "rbc               float64\n",
       "pc                float64\n",
       "pcc               float64\n",
       "ba                float64\n",
       "bgr               float64\n",
       "bu                float64\n",
       "sc                float64\n",
       "sod               float64\n",
       "pot               float64\n",
       "hemo              float64\n",
       "pcv               float64\n",
       "wc                float64\n",
       "rc                float64\n",
       "htn               float64\n",
       "dm                float64\n",
       "cad               float64\n",
       "appet             float64\n",
       "pe                float64\n",
       "ane               float64\n",
       "classification      int64\n",
       "dtype: object"
      ]
     },
     "execution_count": 262,
     "metadata": {},
     "output_type": "execute_result"
    }
   ],
   "source": [
    "dataset.dtypes"
   ]
  },
  {
   "cell_type": "code",
   "execution_count": 263,
   "id": "b40bb8e4",
   "metadata": {},
   "outputs": [
    {
     "data": {
      "text/html": [
       "<div>\n",
       "<style scoped>\n",
       "    .dataframe tbody tr th:only-of-type {\n",
       "        vertical-align: middle;\n",
       "    }\n",
       "\n",
       "    .dataframe tbody tr th {\n",
       "        vertical-align: top;\n",
       "    }\n",
       "\n",
       "    .dataframe thead th {\n",
       "        text-align: right;\n",
       "    }\n",
       "</style>\n",
       "<table border=\"1\" class=\"dataframe\">\n",
       "  <thead>\n",
       "    <tr style=\"text-align: right;\">\n",
       "      <th></th>\n",
       "      <th>age</th>\n",
       "      <th>bp</th>\n",
       "      <th>sg</th>\n",
       "      <th>al</th>\n",
       "      <th>su</th>\n",
       "      <th>rbc</th>\n",
       "      <th>pc</th>\n",
       "      <th>pcc</th>\n",
       "      <th>ba</th>\n",
       "      <th>bgr</th>\n",
       "      <th>bu</th>\n",
       "      <th>sc</th>\n",
       "      <th>sod</th>\n",
       "      <th>pot</th>\n",
       "      <th>hemo</th>\n",
       "      <th>pcv</th>\n",
       "      <th>wc</th>\n",
       "      <th>rc</th>\n",
       "      <th>htn</th>\n",
       "      <th>dm</th>\n",
       "      <th>cad</th>\n",
       "      <th>appet</th>\n",
       "      <th>pe</th>\n",
       "      <th>ane</th>\n",
       "      <th>classification</th>\n",
       "    </tr>\n",
       "  </thead>\n",
       "  <tbody>\n",
       "    <tr>\n",
       "      <th>count</th>\n",
       "      <td>391.000000</td>\n",
       "      <td>388.000000</td>\n",
       "      <td>353.000000</td>\n",
       "      <td>354.000000</td>\n",
       "      <td>351.000000</td>\n",
       "      <td>248.000000</td>\n",
       "      <td>335.000000</td>\n",
       "      <td>396.000000</td>\n",
       "      <td>396.000000</td>\n",
       "      <td>356.000000</td>\n",
       "      <td>381.000000</td>\n",
       "      <td>383.000000</td>\n",
       "      <td>313.000000</td>\n",
       "      <td>312.000000</td>\n",
       "      <td>348.000000</td>\n",
       "      <td>329.000000</td>\n",
       "      <td>294.000000</td>\n",
       "      <td>269.000000</td>\n",
       "      <td>398.000000</td>\n",
       "      <td>398.000000</td>\n",
       "      <td>398.000000</td>\n",
       "      <td>399.000000</td>\n",
       "      <td>399.000000</td>\n",
       "      <td>399.000000</td>\n",
       "      <td>400.000000</td>\n",
       "    </tr>\n",
       "    <tr>\n",
       "      <th>mean</th>\n",
       "      <td>51.483376</td>\n",
       "      <td>76.469072</td>\n",
       "      <td>1.017408</td>\n",
       "      <td>1.016949</td>\n",
       "      <td>0.450142</td>\n",
       "      <td>0.189516</td>\n",
       "      <td>0.226866</td>\n",
       "      <td>0.106061</td>\n",
       "      <td>0.055556</td>\n",
       "      <td>148.036517</td>\n",
       "      <td>57.425722</td>\n",
       "      <td>3.072454</td>\n",
       "      <td>137.528754</td>\n",
       "      <td>4.627244</td>\n",
       "      <td>12.526437</td>\n",
       "      <td>38.884498</td>\n",
       "      <td>8406.122449</td>\n",
       "      <td>4.707435</td>\n",
       "      <td>0.369347</td>\n",
       "      <td>0.344221</td>\n",
       "      <td>0.085427</td>\n",
       "      <td>0.794486</td>\n",
       "      <td>0.190476</td>\n",
       "      <td>0.150376</td>\n",
       "      <td>0.625000</td>\n",
       "    </tr>\n",
       "    <tr>\n",
       "      <th>std</th>\n",
       "      <td>17.169714</td>\n",
       "      <td>13.683637</td>\n",
       "      <td>0.005717</td>\n",
       "      <td>1.352679</td>\n",
       "      <td>1.099191</td>\n",
       "      <td>0.392711</td>\n",
       "      <td>0.419431</td>\n",
       "      <td>0.308305</td>\n",
       "      <td>0.229351</td>\n",
       "      <td>79.281714</td>\n",
       "      <td>50.503006</td>\n",
       "      <td>5.741126</td>\n",
       "      <td>10.408752</td>\n",
       "      <td>3.193904</td>\n",
       "      <td>2.912587</td>\n",
       "      <td>8.990105</td>\n",
       "      <td>2944.474190</td>\n",
       "      <td>1.025323</td>\n",
       "      <td>0.483235</td>\n",
       "      <td>0.475712</td>\n",
       "      <td>0.279868</td>\n",
       "      <td>0.404584</td>\n",
       "      <td>0.393170</td>\n",
       "      <td>0.357888</td>\n",
       "      <td>0.484729</td>\n",
       "    </tr>\n",
       "    <tr>\n",
       "      <th>min</th>\n",
       "      <td>2.000000</td>\n",
       "      <td>50.000000</td>\n",
       "      <td>1.005000</td>\n",
       "      <td>0.000000</td>\n",
       "      <td>0.000000</td>\n",
       "      <td>0.000000</td>\n",
       "      <td>0.000000</td>\n",
       "      <td>0.000000</td>\n",
       "      <td>0.000000</td>\n",
       "      <td>22.000000</td>\n",
       "      <td>1.500000</td>\n",
       "      <td>0.400000</td>\n",
       "      <td>4.500000</td>\n",
       "      <td>2.500000</td>\n",
       "      <td>3.100000</td>\n",
       "      <td>9.000000</td>\n",
       "      <td>2200.000000</td>\n",
       "      <td>2.100000</td>\n",
       "      <td>0.000000</td>\n",
       "      <td>0.000000</td>\n",
       "      <td>0.000000</td>\n",
       "      <td>0.000000</td>\n",
       "      <td>0.000000</td>\n",
       "      <td>0.000000</td>\n",
       "      <td>0.000000</td>\n",
       "    </tr>\n",
       "    <tr>\n",
       "      <th>25%</th>\n",
       "      <td>42.000000</td>\n",
       "      <td>70.000000</td>\n",
       "      <td>1.010000</td>\n",
       "      <td>0.000000</td>\n",
       "      <td>0.000000</td>\n",
       "      <td>0.000000</td>\n",
       "      <td>0.000000</td>\n",
       "      <td>0.000000</td>\n",
       "      <td>0.000000</td>\n",
       "      <td>99.000000</td>\n",
       "      <td>27.000000</td>\n",
       "      <td>0.900000</td>\n",
       "      <td>135.000000</td>\n",
       "      <td>3.800000</td>\n",
       "      <td>10.300000</td>\n",
       "      <td>32.000000</td>\n",
       "      <td>6500.000000</td>\n",
       "      <td>3.900000</td>\n",
       "      <td>0.000000</td>\n",
       "      <td>0.000000</td>\n",
       "      <td>0.000000</td>\n",
       "      <td>1.000000</td>\n",
       "      <td>0.000000</td>\n",
       "      <td>0.000000</td>\n",
       "      <td>0.000000</td>\n",
       "    </tr>\n",
       "    <tr>\n",
       "      <th>50%</th>\n",
       "      <td>55.000000</td>\n",
       "      <td>80.000000</td>\n",
       "      <td>1.020000</td>\n",
       "      <td>0.000000</td>\n",
       "      <td>0.000000</td>\n",
       "      <td>0.000000</td>\n",
       "      <td>0.000000</td>\n",
       "      <td>0.000000</td>\n",
       "      <td>0.000000</td>\n",
       "      <td>121.000000</td>\n",
       "      <td>42.000000</td>\n",
       "      <td>1.300000</td>\n",
       "      <td>138.000000</td>\n",
       "      <td>4.400000</td>\n",
       "      <td>12.650000</td>\n",
       "      <td>40.000000</td>\n",
       "      <td>8000.000000</td>\n",
       "      <td>4.800000</td>\n",
       "      <td>0.000000</td>\n",
       "      <td>0.000000</td>\n",
       "      <td>0.000000</td>\n",
       "      <td>1.000000</td>\n",
       "      <td>0.000000</td>\n",
       "      <td>0.000000</td>\n",
       "      <td>1.000000</td>\n",
       "    </tr>\n",
       "    <tr>\n",
       "      <th>75%</th>\n",
       "      <td>64.500000</td>\n",
       "      <td>80.000000</td>\n",
       "      <td>1.020000</td>\n",
       "      <td>2.000000</td>\n",
       "      <td>0.000000</td>\n",
       "      <td>0.000000</td>\n",
       "      <td>0.000000</td>\n",
       "      <td>0.000000</td>\n",
       "      <td>0.000000</td>\n",
       "      <td>163.000000</td>\n",
       "      <td>66.000000</td>\n",
       "      <td>2.800000</td>\n",
       "      <td>142.000000</td>\n",
       "      <td>4.900000</td>\n",
       "      <td>15.000000</td>\n",
       "      <td>45.000000</td>\n",
       "      <td>9800.000000</td>\n",
       "      <td>5.400000</td>\n",
       "      <td>1.000000</td>\n",
       "      <td>1.000000</td>\n",
       "      <td>0.000000</td>\n",
       "      <td>1.000000</td>\n",
       "      <td>0.000000</td>\n",
       "      <td>0.000000</td>\n",
       "      <td>1.000000</td>\n",
       "    </tr>\n",
       "    <tr>\n",
       "      <th>max</th>\n",
       "      <td>90.000000</td>\n",
       "      <td>180.000000</td>\n",
       "      <td>1.025000</td>\n",
       "      <td>5.000000</td>\n",
       "      <td>5.000000</td>\n",
       "      <td>1.000000</td>\n",
       "      <td>1.000000</td>\n",
       "      <td>1.000000</td>\n",
       "      <td>1.000000</td>\n",
       "      <td>490.000000</td>\n",
       "      <td>391.000000</td>\n",
       "      <td>76.000000</td>\n",
       "      <td>163.000000</td>\n",
       "      <td>47.000000</td>\n",
       "      <td>17.800000</td>\n",
       "      <td>54.000000</td>\n",
       "      <td>26400.000000</td>\n",
       "      <td>8.000000</td>\n",
       "      <td>1.000000</td>\n",
       "      <td>1.000000</td>\n",
       "      <td>1.000000</td>\n",
       "      <td>1.000000</td>\n",
       "      <td>1.000000</td>\n",
       "      <td>1.000000</td>\n",
       "      <td>1.000000</td>\n",
       "    </tr>\n",
       "  </tbody>\n",
       "</table>\n",
       "</div>"
      ],
      "text/plain": [
       "              age          bp          sg          al          su         rbc  \\\n",
       "count  391.000000  388.000000  353.000000  354.000000  351.000000  248.000000   \n",
       "mean    51.483376   76.469072    1.017408    1.016949    0.450142    0.189516   \n",
       "std     17.169714   13.683637    0.005717    1.352679    1.099191    0.392711   \n",
       "min      2.000000   50.000000    1.005000    0.000000    0.000000    0.000000   \n",
       "25%     42.000000   70.000000    1.010000    0.000000    0.000000    0.000000   \n",
       "50%     55.000000   80.000000    1.020000    0.000000    0.000000    0.000000   \n",
       "75%     64.500000   80.000000    1.020000    2.000000    0.000000    0.000000   \n",
       "max     90.000000  180.000000    1.025000    5.000000    5.000000    1.000000   \n",
       "\n",
       "               pc         pcc          ba         bgr          bu          sc  \\\n",
       "count  335.000000  396.000000  396.000000  356.000000  381.000000  383.000000   \n",
       "mean     0.226866    0.106061    0.055556  148.036517   57.425722    3.072454   \n",
       "std      0.419431    0.308305    0.229351   79.281714   50.503006    5.741126   \n",
       "min      0.000000    0.000000    0.000000   22.000000    1.500000    0.400000   \n",
       "25%      0.000000    0.000000    0.000000   99.000000   27.000000    0.900000   \n",
       "50%      0.000000    0.000000    0.000000  121.000000   42.000000    1.300000   \n",
       "75%      0.000000    0.000000    0.000000  163.000000   66.000000    2.800000   \n",
       "max      1.000000    1.000000    1.000000  490.000000  391.000000   76.000000   \n",
       "\n",
       "              sod         pot        hemo         pcv            wc  \\\n",
       "count  313.000000  312.000000  348.000000  329.000000    294.000000   \n",
       "mean   137.528754    4.627244   12.526437   38.884498   8406.122449   \n",
       "std     10.408752    3.193904    2.912587    8.990105   2944.474190   \n",
       "min      4.500000    2.500000    3.100000    9.000000   2200.000000   \n",
       "25%    135.000000    3.800000   10.300000   32.000000   6500.000000   \n",
       "50%    138.000000    4.400000   12.650000   40.000000   8000.000000   \n",
       "75%    142.000000    4.900000   15.000000   45.000000   9800.000000   \n",
       "max    163.000000   47.000000   17.800000   54.000000  26400.000000   \n",
       "\n",
       "               rc         htn          dm         cad       appet          pe  \\\n",
       "count  269.000000  398.000000  398.000000  398.000000  399.000000  399.000000   \n",
       "mean     4.707435    0.369347    0.344221    0.085427    0.794486    0.190476   \n",
       "std      1.025323    0.483235    0.475712    0.279868    0.404584    0.393170   \n",
       "min      2.100000    0.000000    0.000000    0.000000    0.000000    0.000000   \n",
       "25%      3.900000    0.000000    0.000000    0.000000    1.000000    0.000000   \n",
       "50%      4.800000    0.000000    0.000000    0.000000    1.000000    0.000000   \n",
       "75%      5.400000    1.000000    1.000000    0.000000    1.000000    0.000000   \n",
       "max      8.000000    1.000000    1.000000    1.000000    1.000000    1.000000   \n",
       "\n",
       "              ane  classification  \n",
       "count  399.000000      400.000000  \n",
       "mean     0.150376        0.625000  \n",
       "std      0.357888        0.484729  \n",
       "min      0.000000        0.000000  \n",
       "25%      0.000000        0.000000  \n",
       "50%      0.000000        1.000000  \n",
       "75%      0.000000        1.000000  \n",
       "max      1.000000        1.000000  "
      ]
     },
     "execution_count": 263,
     "metadata": {},
     "output_type": "execute_result"
    }
   ],
   "source": [
    "dataset.describe()"
   ]
  },
  {
   "cell_type": "code",
   "execution_count": 264,
   "id": "2c3a858a",
   "metadata": {},
   "outputs": [
    {
     "data": {
      "text/plain": [
       "rbc               152\n",
       "rc                131\n",
       "wc                106\n",
       "pot                88\n",
       "sod                87\n",
       "pcv                71\n",
       "pc                 65\n",
       "hemo               52\n",
       "su                 49\n",
       "sg                 47\n",
       "al                 46\n",
       "bgr                44\n",
       "bu                 19\n",
       "sc                 17\n",
       "bp                 12\n",
       "age                 9\n",
       "ba                  4\n",
       "pcc                 4\n",
       "htn                 2\n",
       "dm                  2\n",
       "cad                 2\n",
       "appet               1\n",
       "pe                  1\n",
       "ane                 1\n",
       "classification      0\n",
       "dtype: int64"
      ]
     },
     "execution_count": 264,
     "metadata": {},
     "output_type": "execute_result"
    }
   ],
   "source": [
    "# Cheaking Missing (NaN) Values:\n",
    "dataset.isnull().sum().sort_values(ascending=False)"
   ]
  },
  {
   "cell_type": "code",
   "execution_count": 270,
   "id": "dd19470e",
   "metadata": {},
   "outputs": [
    {
     "data": {
      "text/plain": [
       "Index(['age', 'bp', 'sg', 'al', 'su', 'rbc', 'pc', 'pcc', 'ba', 'bgr', 'bu',\n",
       "       'sc', 'sod', 'pot', 'hemo', 'pcv', 'wc', 'rc', 'htn', 'dm', 'cad',\n",
       "       'appet', 'pe', 'ane', 'classification'],\n",
       "      dtype='object')"
      ]
     },
     "execution_count": 270,
     "metadata": {},
     "output_type": "execute_result"
    }
   ],
   "source": [
    "dataset.columns"
   ]
  },
  {
   "cell_type": "code",
   "execution_count": 271,
   "id": "41c136d3",
   "metadata": {},
   "outputs": [],
   "source": [
    "features = ['age', 'bp', 'sg', 'al', 'su', 'rbc', 'pc', 'pcc', 'ba', 'bgr', 'bu',\n",
    "           'sc', 'sod', 'pot', 'hemo', 'pcv', 'wc', 'rc', 'htn', 'dm', 'cad',\n",
    "           'appet', 'pe', 'ane']"
   ]
  },
  {
   "cell_type": "code",
   "execution_count": 272,
   "id": "2c78e526",
   "metadata": {},
   "outputs": [],
   "source": [
    "for feature in features:\n",
    "    dataset[feature] = dataset[feature].fillna(dataset[feature].median())"
   ]
  },
  {
   "cell_type": "code",
   "execution_count": 273,
   "id": "d0991c06",
   "metadata": {},
   "outputs": [
    {
     "data": {
      "text/plain": [
       "0"
      ]
     },
     "execution_count": 273,
     "metadata": {},
     "output_type": "execute_result"
    }
   ],
   "source": [
    "dataset.isnull().any().sum()"
   ]
  },
  {
   "cell_type": "code",
   "execution_count": null,
   "id": "c987f678",
   "metadata": {},
   "outputs": [],
   "source": [
    "plt.figure(figsize=(24,14))\n",
    "sns.heatmap(dataset.corr(), annot=True, cmap='YlGnBu')\n",
    "plt.show()"
   ]
  },
  {
   "cell_type": "code",
   "execution_count": 275,
   "id": "dcae8d01",
   "metadata": {},
   "outputs": [],
   "source": [
    "dataset.drop('pcv', axis=1, inplace=True)"
   ]
  },
  {
   "cell_type": "code",
   "execution_count": 276,
   "id": "f338d916",
   "metadata": {},
   "outputs": [
    {
     "data": {
      "text/html": [
       "<div>\n",
       "<style scoped>\n",
       "    .dataframe tbody tr th:only-of-type {\n",
       "        vertical-align: middle;\n",
       "    }\n",
       "\n",
       "    .dataframe tbody tr th {\n",
       "        vertical-align: top;\n",
       "    }\n",
       "\n",
       "    .dataframe thead th {\n",
       "        text-align: right;\n",
       "    }\n",
       "</style>\n",
       "<table border=\"1\" class=\"dataframe\">\n",
       "  <thead>\n",
       "    <tr style=\"text-align: right;\">\n",
       "      <th></th>\n",
       "      <th>age</th>\n",
       "      <th>bp</th>\n",
       "      <th>sg</th>\n",
       "      <th>al</th>\n",
       "      <th>su</th>\n",
       "      <th>rbc</th>\n",
       "      <th>pc</th>\n",
       "      <th>pcc</th>\n",
       "      <th>ba</th>\n",
       "      <th>bgr</th>\n",
       "      <th>bu</th>\n",
       "      <th>sc</th>\n",
       "      <th>sod</th>\n",
       "      <th>pot</th>\n",
       "      <th>hemo</th>\n",
       "      <th>wc</th>\n",
       "      <th>rc</th>\n",
       "      <th>htn</th>\n",
       "      <th>dm</th>\n",
       "      <th>cad</th>\n",
       "      <th>appet</th>\n",
       "      <th>pe</th>\n",
       "      <th>ane</th>\n",
       "      <th>classification</th>\n",
       "    </tr>\n",
       "  </thead>\n",
       "  <tbody>\n",
       "    <tr>\n",
       "      <th>0</th>\n",
       "      <td>48.0</td>\n",
       "      <td>80.0</td>\n",
       "      <td>1.020</td>\n",
       "      <td>1.0</td>\n",
       "      <td>0.0</td>\n",
       "      <td>0.0</td>\n",
       "      <td>0.0</td>\n",
       "      <td>0.0</td>\n",
       "      <td>0.0</td>\n",
       "      <td>121.0</td>\n",
       "      <td>36.0</td>\n",
       "      <td>1.2</td>\n",
       "      <td>138.0</td>\n",
       "      <td>4.4</td>\n",
       "      <td>15.4</td>\n",
       "      <td>7800.0</td>\n",
       "      <td>5.2</td>\n",
       "      <td>1.0</td>\n",
       "      <td>1.0</td>\n",
       "      <td>0.0</td>\n",
       "      <td>1.0</td>\n",
       "      <td>0.0</td>\n",
       "      <td>0.0</td>\n",
       "      <td>1</td>\n",
       "    </tr>\n",
       "    <tr>\n",
       "      <th>1</th>\n",
       "      <td>7.0</td>\n",
       "      <td>50.0</td>\n",
       "      <td>1.020</td>\n",
       "      <td>4.0</td>\n",
       "      <td>0.0</td>\n",
       "      <td>0.0</td>\n",
       "      <td>0.0</td>\n",
       "      <td>0.0</td>\n",
       "      <td>0.0</td>\n",
       "      <td>121.0</td>\n",
       "      <td>18.0</td>\n",
       "      <td>0.8</td>\n",
       "      <td>138.0</td>\n",
       "      <td>4.4</td>\n",
       "      <td>11.3</td>\n",
       "      <td>6000.0</td>\n",
       "      <td>4.8</td>\n",
       "      <td>0.0</td>\n",
       "      <td>0.0</td>\n",
       "      <td>0.0</td>\n",
       "      <td>1.0</td>\n",
       "      <td>0.0</td>\n",
       "      <td>0.0</td>\n",
       "      <td>1</td>\n",
       "    </tr>\n",
       "    <tr>\n",
       "      <th>2</th>\n",
       "      <td>62.0</td>\n",
       "      <td>80.0</td>\n",
       "      <td>1.010</td>\n",
       "      <td>2.0</td>\n",
       "      <td>3.0</td>\n",
       "      <td>0.0</td>\n",
       "      <td>0.0</td>\n",
       "      <td>0.0</td>\n",
       "      <td>0.0</td>\n",
       "      <td>423.0</td>\n",
       "      <td>53.0</td>\n",
       "      <td>1.8</td>\n",
       "      <td>138.0</td>\n",
       "      <td>4.4</td>\n",
       "      <td>9.6</td>\n",
       "      <td>7500.0</td>\n",
       "      <td>4.8</td>\n",
       "      <td>0.0</td>\n",
       "      <td>1.0</td>\n",
       "      <td>0.0</td>\n",
       "      <td>0.0</td>\n",
       "      <td>0.0</td>\n",
       "      <td>1.0</td>\n",
       "      <td>1</td>\n",
       "    </tr>\n",
       "    <tr>\n",
       "      <th>3</th>\n",
       "      <td>48.0</td>\n",
       "      <td>70.0</td>\n",
       "      <td>1.005</td>\n",
       "      <td>4.0</td>\n",
       "      <td>0.0</td>\n",
       "      <td>0.0</td>\n",
       "      <td>1.0</td>\n",
       "      <td>1.0</td>\n",
       "      <td>0.0</td>\n",
       "      <td>117.0</td>\n",
       "      <td>56.0</td>\n",
       "      <td>3.8</td>\n",
       "      <td>111.0</td>\n",
       "      <td>2.5</td>\n",
       "      <td>11.2</td>\n",
       "      <td>6700.0</td>\n",
       "      <td>3.9</td>\n",
       "      <td>1.0</td>\n",
       "      <td>0.0</td>\n",
       "      <td>0.0</td>\n",
       "      <td>0.0</td>\n",
       "      <td>1.0</td>\n",
       "      <td>1.0</td>\n",
       "      <td>1</td>\n",
       "    </tr>\n",
       "    <tr>\n",
       "      <th>4</th>\n",
       "      <td>51.0</td>\n",
       "      <td>80.0</td>\n",
       "      <td>1.010</td>\n",
       "      <td>2.0</td>\n",
       "      <td>0.0</td>\n",
       "      <td>0.0</td>\n",
       "      <td>0.0</td>\n",
       "      <td>0.0</td>\n",
       "      <td>0.0</td>\n",
       "      <td>106.0</td>\n",
       "      <td>26.0</td>\n",
       "      <td>1.4</td>\n",
       "      <td>138.0</td>\n",
       "      <td>4.4</td>\n",
       "      <td>11.6</td>\n",
       "      <td>7300.0</td>\n",
       "      <td>4.6</td>\n",
       "      <td>0.0</td>\n",
       "      <td>0.0</td>\n",
       "      <td>0.0</td>\n",
       "      <td>1.0</td>\n",
       "      <td>0.0</td>\n",
       "      <td>0.0</td>\n",
       "      <td>1</td>\n",
       "    </tr>\n",
       "  </tbody>\n",
       "</table>\n",
       "</div>"
      ],
      "text/plain": [
       "    age    bp     sg   al   su  rbc   pc  pcc   ba    bgr    bu   sc    sod  \\\n",
       "0  48.0  80.0  1.020  1.0  0.0  0.0  0.0  0.0  0.0  121.0  36.0  1.2  138.0   \n",
       "1   7.0  50.0  1.020  4.0  0.0  0.0  0.0  0.0  0.0  121.0  18.0  0.8  138.0   \n",
       "2  62.0  80.0  1.010  2.0  3.0  0.0  0.0  0.0  0.0  423.0  53.0  1.8  138.0   \n",
       "3  48.0  70.0  1.005  4.0  0.0  0.0  1.0  1.0  0.0  117.0  56.0  3.8  111.0   \n",
       "4  51.0  80.0  1.010  2.0  0.0  0.0  0.0  0.0  0.0  106.0  26.0  1.4  138.0   \n",
       "\n",
       "   pot  hemo      wc   rc  htn   dm  cad  appet   pe  ane  classification  \n",
       "0  4.4  15.4  7800.0  5.2  1.0  1.0  0.0    1.0  0.0  0.0               1  \n",
       "1  4.4  11.3  6000.0  4.8  0.0  0.0  0.0    1.0  0.0  0.0               1  \n",
       "2  4.4   9.6  7500.0  4.8  0.0  1.0  0.0    0.0  0.0  1.0               1  \n",
       "3  2.5  11.2  6700.0  3.9  1.0  0.0  0.0    0.0  1.0  1.0               1  \n",
       "4  4.4  11.6  7300.0  4.6  0.0  0.0  0.0    1.0  0.0  0.0               1  "
      ]
     },
     "execution_count": 276,
     "metadata": {},
     "output_type": "execute_result"
    }
   ],
   "source": [
    "dataset.head()"
   ]
  },
  {
   "cell_type": "code",
   "execution_count": 277,
   "id": "12a557e8",
   "metadata": {},
   "outputs": [
    {
     "data": {
      "text/plain": [
       "<Axes: ylabel='count'>"
      ]
     },
     "execution_count": 277,
     "metadata": {},
     "output_type": "execute_result"
    },
    {
     "data": {
      "image/png": "[encoded data removed]",
      "text/plain": [
       "<Figure size 640x480 with 1 Axes>"
      ]
     },
     "metadata": {},
     "output_type": "display_data"
    }
   ],
   "source": [
    "sns.countplot(dataset['classification'])\n"
   ]
  },
  {
   "cell_type": "code",
   "execution_count": 279,
   "id": "b787a0a3",
   "metadata": {},
   "outputs": [],
   "source": [
    "# Independent and Dependent Feature:\n",
    "X = dataset.iloc[:, :-1]\n",
    "y = dataset.iloc[:, -1]"
   ]
  },
  {
   "cell_type": "code",
   "execution_count": 280,
   "id": "bbb8033a",
   "metadata": {},
   "outputs": [
    {
     "data": {
      "text/html": [
       "<div>\n",
       "<style scoped>\n",
       "    .dataframe tbody tr th:only-of-type {\n",
       "        vertical-align: middle;\n",
       "    }\n",
       "\n",
       "    .dataframe tbody tr th {\n",
       "        vertical-align: top;\n",
       "    }\n",
       "\n",
       "    .dataframe thead th {\n",
       "        text-align: right;\n",
       "    }\n",
       "</style>\n",
       "<table border=\"1\" class=\"dataframe\">\n",
       "  <thead>\n",
       "    <tr style=\"text-align: right;\">\n",
       "      <th></th>\n",
       "      <th>age</th>\n",
       "      <th>bp</th>\n",
       "      <th>sg</th>\n",
       "      <th>al</th>\n",
       "      <th>su</th>\n",
       "      <th>rbc</th>\n",
       "      <th>pc</th>\n",
       "      <th>pcc</th>\n",
       "      <th>ba</th>\n",
       "      <th>bgr</th>\n",
       "      <th>bu</th>\n",
       "      <th>sc</th>\n",
       "      <th>sod</th>\n",
       "      <th>pot</th>\n",
       "      <th>hemo</th>\n",
       "      <th>wc</th>\n",
       "      <th>rc</th>\n",
       "      <th>htn</th>\n",
       "      <th>dm</th>\n",
       "      <th>cad</th>\n",
       "      <th>appet</th>\n",
       "      <th>pe</th>\n",
       "      <th>ane</th>\n",
       "    </tr>\n",
       "  </thead>\n",
       "  <tbody>\n",
       "    <tr>\n",
       "      <th>0</th>\n",
       "      <td>48.0</td>\n",
       "      <td>80.0</td>\n",
       "      <td>1.020</td>\n",
       "      <td>1.0</td>\n",
       "      <td>0.0</td>\n",
       "      <td>0.0</td>\n",
       "      <td>0.0</td>\n",
       "      <td>0.0</td>\n",
       "      <td>0.0</td>\n",
       "      <td>121.0</td>\n",
       "      <td>36.0</td>\n",
       "      <td>1.2</td>\n",
       "      <td>138.0</td>\n",
       "      <td>4.4</td>\n",
       "      <td>15.4</td>\n",
       "      <td>7800.0</td>\n",
       "      <td>5.2</td>\n",
       "      <td>1.0</td>\n",
       "      <td>1.0</td>\n",
       "      <td>0.0</td>\n",
       "      <td>1.0</td>\n",
       "      <td>0.0</td>\n",
       "      <td>0.0</td>\n",
       "    </tr>\n",
       "    <tr>\n",
       "      <th>1</th>\n",
       "      <td>7.0</td>\n",
       "      <td>50.0</td>\n",
       "      <td>1.020</td>\n",
       "      <td>4.0</td>\n",
       "      <td>0.0</td>\n",
       "      <td>0.0</td>\n",
       "      <td>0.0</td>\n",
       "      <td>0.0</td>\n",
       "      <td>0.0</td>\n",
       "      <td>121.0</td>\n",
       "      <td>18.0</td>\n",
       "      <td>0.8</td>\n",
       "      <td>138.0</td>\n",
       "      <td>4.4</td>\n",
       "      <td>11.3</td>\n",
       "      <td>6000.0</td>\n",
       "      <td>4.8</td>\n",
       "      <td>0.0</td>\n",
       "      <td>0.0</td>\n",
       "      <td>0.0</td>\n",
       "      <td>1.0</td>\n",
       "      <td>0.0</td>\n",
       "      <td>0.0</td>\n",
       "    </tr>\n",
       "    <tr>\n",
       "      <th>2</th>\n",
       "      <td>62.0</td>\n",
       "      <td>80.0</td>\n",
       "      <td>1.010</td>\n",
       "      <td>2.0</td>\n",
       "      <td>3.0</td>\n",
       "      <td>0.0</td>\n",
       "      <td>0.0</td>\n",
       "      <td>0.0</td>\n",
       "      <td>0.0</td>\n",
       "      <td>423.0</td>\n",
       "      <td>53.0</td>\n",
       "      <td>1.8</td>\n",
       "      <td>138.0</td>\n",
       "      <td>4.4</td>\n",
       "      <td>9.6</td>\n",
       "      <td>7500.0</td>\n",
       "      <td>4.8</td>\n",
       "      <td>0.0</td>\n",
       "      <td>1.0</td>\n",
       "      <td>0.0</td>\n",
       "      <td>0.0</td>\n",
       "      <td>0.0</td>\n",
       "      <td>1.0</td>\n",
       "    </tr>\n",
       "    <tr>\n",
       "      <th>3</th>\n",
       "      <td>48.0</td>\n",
       "      <td>70.0</td>\n",
       "      <td>1.005</td>\n",
       "      <td>4.0</td>\n",
       "      <td>0.0</td>\n",
       "      <td>0.0</td>\n",
       "      <td>1.0</td>\n",
       "      <td>1.0</td>\n",
       "      <td>0.0</td>\n",
       "      <td>117.0</td>\n",
       "      <td>56.0</td>\n",
       "      <td>3.8</td>\n",
       "      <td>111.0</td>\n",
       "      <td>2.5</td>\n",
       "      <td>11.2</td>\n",
       "      <td>6700.0</td>\n",
       "      <td>3.9</td>\n",
       "      <td>1.0</td>\n",
       "      <td>0.0</td>\n",
       "      <td>0.0</td>\n",
       "      <td>0.0</td>\n",
       "      <td>1.0</td>\n",
       "      <td>1.0</td>\n",
       "    </tr>\n",
       "    <tr>\n",
       "      <th>4</th>\n",
       "      <td>51.0</td>\n",
       "      <td>80.0</td>\n",
       "      <td>1.010</td>\n",
       "      <td>2.0</td>\n",
       "      <td>0.0</td>\n",
       "      <td>0.0</td>\n",
       "      <td>0.0</td>\n",
       "      <td>0.0</td>\n",
       "      <td>0.0</td>\n",
       "      <td>106.0</td>\n",
       "      <td>26.0</td>\n",
       "      <td>1.4</td>\n",
       "      <td>138.0</td>\n",
       "      <td>4.4</td>\n",
       "      <td>11.6</td>\n",
       "      <td>7300.0</td>\n",
       "      <td>4.6</td>\n",
       "      <td>0.0</td>\n",
       "      <td>0.0</td>\n",
       "      <td>0.0</td>\n",
       "      <td>1.0</td>\n",
       "      <td>0.0</td>\n",
       "      <td>0.0</td>\n",
       "    </tr>\n",
       "  </tbody>\n",
       "</table>\n",
       "</div>"
      ],
      "text/plain": [
       "    age    bp     sg   al   su  rbc   pc  pcc   ba    bgr    bu   sc    sod  \\\n",
       "0  48.0  80.0  1.020  1.0  0.0  0.0  0.0  0.0  0.0  121.0  36.0  1.2  138.0   \n",
       "1   7.0  50.0  1.020  4.0  0.0  0.0  0.0  0.0  0.0  121.0  18.0  0.8  138.0   \n",
       "2  62.0  80.0  1.010  2.0  3.0  0.0  0.0  0.0  0.0  423.0  53.0  1.8  138.0   \n",
       "3  48.0  70.0  1.005  4.0  0.0  0.0  1.0  1.0  0.0  117.0  56.0  3.8  111.0   \n",
       "4  51.0  80.0  1.010  2.0  0.0  0.0  0.0  0.0  0.0  106.0  26.0  1.4  138.0   \n",
       "\n",
       "   pot  hemo      wc   rc  htn   dm  cad  appet   pe  ane  \n",
       "0  4.4  15.4  7800.0  5.2  1.0  1.0  0.0    1.0  0.0  0.0  \n",
       "1  4.4  11.3  6000.0  4.8  0.0  0.0  0.0    1.0  0.0  0.0  \n",
       "2  4.4   9.6  7500.0  4.8  0.0  1.0  0.0    0.0  0.0  1.0  \n",
       "3  2.5  11.2  6700.0  3.9  1.0  0.0  0.0    0.0  1.0  1.0  \n",
       "4  4.4  11.6  7300.0  4.6  0.0  0.0  0.0    1.0  0.0  0.0  "
      ]
     },
     "execution_count": 280,
     "metadata": {},
     "output_type": "execute_result"
    }
   ],
   "source": [
    "X.head()"
   ]
  },
  {
   "cell_type": "code",
   "execution_count": 281,
   "id": "c053c0c7",
   "metadata": {},
   "outputs": [
    {
     "data": {
      "image/png": "[encoded data removed]",
      "text/plain": [
       "<Figure size 800x600 with 1 Axes>"
      ]
     },
     "metadata": {},
     "output_type": "display_data"
    }
   ],
   "source": [
    "# Feature Importance:\n",
    "from sklearn.ensemble import ExtraTreesClassifier\n",
    "import matplotlib.pyplot as plt\n",
    "model=ExtraTreesClassifier()\n",
    "model.fit(X,y)\n",
    "\n",
    "plt.figure(figsize=(8,6))\n",
    "ranked_features=pd.Series(model.feature_importances_,index=X.columns)\n",
    "ranked_features.nlargest(24).plot(kind='barh')\n",
    "plt.show()"
   ]
  },
  {
   "cell_type": "code",
   "execution_count": 282,
   "id": "3e414418",
   "metadata": {},
   "outputs": [
    {
     "data": {
      "text/plain": [
       "Index(['sg', 'htn', 'dm', 'hemo', 'al', 'appet', 'pc', 'pe'], dtype='object')"
      ]
     },
     "execution_count": 282,
     "metadata": {},
     "output_type": "execute_result"
    }
   ],
   "source": [
    "ranked_features.nlargest(8).index"
   ]
  },
  {
   "cell_type": "code",
   "execution_count": 283,
   "id": "45fa5b55",
   "metadata": {},
   "outputs": [
    {
     "data": {
      "text/html": [
       "<div>\n",
       "<style scoped>\n",
       "    .dataframe tbody tr th:only-of-type {\n",
       "        vertical-align: middle;\n",
       "    }\n",
       "\n",
       "    .dataframe tbody tr th {\n",
       "        vertical-align: top;\n",
       "    }\n",
       "\n",
       "    .dataframe thead th {\n",
       "        text-align: right;\n",
       "    }\n",
       "</style>\n",
       "<table border=\"1\" class=\"dataframe\">\n",
       "  <thead>\n",
       "    <tr style=\"text-align: right;\">\n",
       "      <th></th>\n",
       "      <th>sg</th>\n",
       "      <th>htn</th>\n",
       "      <th>hemo</th>\n",
       "      <th>dm</th>\n",
       "      <th>al</th>\n",
       "      <th>appet</th>\n",
       "      <th>rc</th>\n",
       "      <th>pc</th>\n",
       "    </tr>\n",
       "  </thead>\n",
       "  <tbody>\n",
       "    <tr>\n",
       "      <th>0</th>\n",
       "      <td>1.020</td>\n",
       "      <td>1.0</td>\n",
       "      <td>15.4</td>\n",
       "      <td>1.0</td>\n",
       "      <td>1.0</td>\n",
       "      <td>1.0</td>\n",
       "      <td>5.2</td>\n",
       "      <td>0.0</td>\n",
       "    </tr>\n",
       "    <tr>\n",
       "      <th>1</th>\n",
       "      <td>1.020</td>\n",
       "      <td>0.0</td>\n",
       "      <td>11.3</td>\n",
       "      <td>0.0</td>\n",
       "      <td>4.0</td>\n",
       "      <td>1.0</td>\n",
       "      <td>4.8</td>\n",
       "      <td>0.0</td>\n",
       "    </tr>\n",
       "    <tr>\n",
       "      <th>2</th>\n",
       "      <td>1.010</td>\n",
       "      <td>0.0</td>\n",
       "      <td>9.6</td>\n",
       "      <td>1.0</td>\n",
       "      <td>2.0</td>\n",
       "      <td>0.0</td>\n",
       "      <td>4.8</td>\n",
       "      <td>0.0</td>\n",
       "    </tr>\n",
       "    <tr>\n",
       "      <th>3</th>\n",
       "      <td>1.005</td>\n",
       "      <td>1.0</td>\n",
       "      <td>11.2</td>\n",
       "      <td>0.0</td>\n",
       "      <td>4.0</td>\n",
       "      <td>0.0</td>\n",
       "      <td>3.9</td>\n",
       "      <td>1.0</td>\n",
       "    </tr>\n",
       "    <tr>\n",
       "      <th>4</th>\n",
       "      <td>1.010</td>\n",
       "      <td>0.0</td>\n",
       "      <td>11.6</td>\n",
       "      <td>0.0</td>\n",
       "      <td>2.0</td>\n",
       "      <td>1.0</td>\n",
       "      <td>4.6</td>\n",
       "      <td>0.0</td>\n",
       "    </tr>\n",
       "  </tbody>\n",
       "</table>\n",
       "</div>"
      ],
      "text/plain": [
       "      sg  htn  hemo   dm   al  appet   rc   pc\n",
       "0  1.020  1.0  15.4  1.0  1.0    1.0  5.2  0.0\n",
       "1  1.020  0.0  11.3  0.0  4.0    1.0  4.8  0.0\n",
       "2  1.010  0.0   9.6  1.0  2.0    0.0  4.8  0.0\n",
       "3  1.005  1.0  11.2  0.0  4.0    0.0  3.9  1.0\n",
       "4  1.010  0.0  11.6  0.0  2.0    1.0  4.6  0.0"
      ]
     },
     "execution_count": 283,
     "metadata": {},
     "output_type": "execute_result"
    }
   ],
   "source": [
    "X = dataset[['sg', 'htn', 'hemo', 'dm', 'al', 'appet', 'rc', 'pc']]\n",
    "X.head()"
   ]
  },
  {
   "cell_type": "code",
   "execution_count": 284,
   "id": "5ed64137",
   "metadata": {},
   "outputs": [
    {
     "data": {
      "text/html": [
       "<div>\n",
       "<style scoped>\n",
       "    .dataframe tbody tr th:only-of-type {\n",
       "        vertical-align: middle;\n",
       "    }\n",
       "\n",
       "    .dataframe tbody tr th {\n",
       "        vertical-align: top;\n",
       "    }\n",
       "\n",
       "    .dataframe thead th {\n",
       "        text-align: right;\n",
       "    }\n",
       "</style>\n",
       "<table border=\"1\" class=\"dataframe\">\n",
       "  <thead>\n",
       "    <tr style=\"text-align: right;\">\n",
       "      <th></th>\n",
       "      <th>sg</th>\n",
       "      <th>htn</th>\n",
       "      <th>hemo</th>\n",
       "      <th>dm</th>\n",
       "      <th>al</th>\n",
       "      <th>appet</th>\n",
       "      <th>rc</th>\n",
       "      <th>pc</th>\n",
       "    </tr>\n",
       "  </thead>\n",
       "  <tbody>\n",
       "    <tr>\n",
       "      <th>395</th>\n",
       "      <td>1.020</td>\n",
       "      <td>0.0</td>\n",
       "      <td>15.7</td>\n",
       "      <td>0.0</td>\n",
       "      <td>0.0</td>\n",
       "      <td>1.0</td>\n",
       "      <td>4.9</td>\n",
       "      <td>0.0</td>\n",
       "    </tr>\n",
       "    <tr>\n",
       "      <th>396</th>\n",
       "      <td>1.025</td>\n",
       "      <td>0.0</td>\n",
       "      <td>16.5</td>\n",
       "      <td>0.0</td>\n",
       "      <td>0.0</td>\n",
       "      <td>1.0</td>\n",
       "      <td>6.2</td>\n",
       "      <td>0.0</td>\n",
       "    </tr>\n",
       "    <tr>\n",
       "      <th>397</th>\n",
       "      <td>1.020</td>\n",
       "      <td>0.0</td>\n",
       "      <td>15.8</td>\n",
       "      <td>0.0</td>\n",
       "      <td>0.0</td>\n",
       "      <td>1.0</td>\n",
       "      <td>5.4</td>\n",
       "      <td>0.0</td>\n",
       "    </tr>\n",
       "    <tr>\n",
       "      <th>398</th>\n",
       "      <td>1.025</td>\n",
       "      <td>0.0</td>\n",
       "      <td>14.2</td>\n",
       "      <td>0.0</td>\n",
       "      <td>0.0</td>\n",
       "      <td>1.0</td>\n",
       "      <td>5.9</td>\n",
       "      <td>0.0</td>\n",
       "    </tr>\n",
       "    <tr>\n",
       "      <th>399</th>\n",
       "      <td>1.025</td>\n",
       "      <td>0.0</td>\n",
       "      <td>15.8</td>\n",
       "      <td>0.0</td>\n",
       "      <td>0.0</td>\n",
       "      <td>1.0</td>\n",
       "      <td>6.1</td>\n",
       "      <td>0.0</td>\n",
       "    </tr>\n",
       "  </tbody>\n",
       "</table>\n",
       "</div>"
      ],
      "text/plain": [
       "        sg  htn  hemo   dm   al  appet   rc   pc\n",
       "395  1.020  0.0  15.7  0.0  0.0    1.0  4.9  0.0\n",
       "396  1.025  0.0  16.5  0.0  0.0    1.0  6.2  0.0\n",
       "397  1.020  0.0  15.8  0.0  0.0    1.0  5.4  0.0\n",
       "398  1.025  0.0  14.2  0.0  0.0    1.0  5.9  0.0\n",
       "399  1.025  0.0  15.8  0.0  0.0    1.0  6.1  0.0"
      ]
     },
     "execution_count": 284,
     "metadata": {},
     "output_type": "execute_result"
    }
   ],
   "source": [
    "X.tail()"
   ]
  },
  {
   "cell_type": "code",
   "execution_count": 285,
   "id": "7bb06172",
   "metadata": {},
   "outputs": [
    {
     "data": {
      "text/plain": [
       "0    1\n",
       "1    1\n",
       "2    1\n",
       "3    1\n",
       "4    1\n",
       "Name: classification, dtype: int64"
      ]
     },
     "execution_count": 285,
     "metadata": {},
     "output_type": "execute_result"
    }
   ],
   "source": [
    "y.head()"
   ]
  },
  {
   "cell_type": "code",
   "execution_count": 286,
   "id": "a3b3de42",
   "metadata": {},
   "outputs": [],
   "source": [
    "# Train Test Split:\n",
    "from sklearn.model_selection import train_test_split\n",
    "X_train,X_test,y_train,y_test = train_test_split(X,y, test_size=0.3, random_state=33)"
   ]
  },
  {
   "cell_type": "code",
   "execution_count": 287,
   "id": "1005e17a",
   "metadata": {},
   "outputs": [
    {
     "name": "stdout",
     "output_type": "stream",
     "text": [
      "(280, 8)\n",
      "(120, 8)\n"
     ]
    }
   ],
   "source": [
    "print(X_train.shape)\n",
    "print(X_test.shape)"
   ]
  },
  {
   "cell_type": "code",
   "execution_count": 288,
   "id": "9ba28a70",
   "metadata": {},
   "outputs": [],
   "source": [
    "# Importing Performance Metrics:\n",
    "from sklearn.metrics import accuracy_score, confusion_matrix, classification_report"
   ]
  },
  {
   "cell_type": "code",
   "execution_count": 289,
   "id": "1525d2b0",
   "metadata": {},
   "outputs": [
    {
     "name": "stdout",
     "output_type": "stream",
     "text": [
      "Accuracy: 0.975\n",
      "[[55  3]\n",
      " [ 0 62]]\n",
      "              precision    recall  f1-score   support\n",
      "\n",
      "           0       1.00      0.95      0.97        58\n",
      "           1       0.95      1.00      0.98        62\n",
      "\n",
      "    accuracy                           0.97       120\n",
      "   macro avg       0.98      0.97      0.97       120\n",
      "weighted avg       0.98      0.97      0.97       120\n",
      "\n"
     ]
    }
   ],
   "source": [
    "# RandomForestClassifier:\n",
    "from sklearn.ensemble import RandomForestClassifier\n",
    "RandomForest = RandomForestClassifier()\n",
    "RandomForest = RandomForest.fit(X_train,y_train)\n",
    "\n",
    "# Predictions:\n",
    "y_pred = RandomForest.predict(X_test)\n",
    "\n",
    "# Performance:\n",
    "print('Accuracy:', accuracy_score(y_test,y_pred))\n",
    "print(confusion_matrix(y_test,y_pred))\n",
    "print(classification_report(y_test,y_pred))\n"
   ]
  },
  {
   "cell_type": "code",
   "execution_count": null,
   "id": "b713aead",
   "metadata": {},
   "outputs": [],
   "source": []
  },
  {
   "cell_type": "code",
   "execution_count": null,
   "id": "57fdb231",
   "metadata": {},
   "outputs": [],
   "source": []
  },
  {
   "cell_type": "code",
   "execution_count": null,
   "id": "9750c817",
   "metadata": {},
   "outputs": [],
   "source": []
  },
  {
   "cell_type": "code",
   "execution_count": 290,
   "id": "ba29fab6",
   "metadata": {},
   "outputs": [
    {
     "name": "stdout",
     "output_type": "stream",
     "text": [
      "Accuracy: 1.0\n",
      "[[58  0]\n",
      " [ 0 62]]\n",
      "              precision    recall  f1-score   support\n",
      "\n",
      "           0       1.00      1.00      1.00        58\n",
      "           1       1.00      1.00      1.00        62\n",
      "\n",
      "    accuracy                           1.00       120\n",
      "   macro avg       1.00      1.00      1.00       120\n",
      "weighted avg       1.00      1.00      1.00       120\n",
      "\n"
     ]
    }
   ],
   "source": [
    "# AdaBoostClassifier:\n",
    "from sklearn.ensemble import AdaBoostClassifier\n",
    "AdaBoost = AdaBoostClassifier()\n",
    "AdaBoost = AdaBoost.fit(X_train,y_train)\n",
    "\n",
    "# Predictions:\n",
    "y_pred = AdaBoost.predict(X_test)\n",
    "\n",
    "# Performance:\n",
    "print('Accuracy:', accuracy_score(y_test,y_pred))\n",
    "print(confusion_matrix(y_test,y_pred))\n",
    "print(classification_report(y_test,y_pred))"
   ]
  },
  {
   "cell_type": "code",
   "execution_count": 291,
   "id": "55fff421",
   "metadata": {},
   "outputs": [
    {
     "name": "stdout",
     "output_type": "stream",
     "text": [
      "Accuracy: 0.975\n",
      "[[55  3]\n",
      " [ 0 62]]\n",
      "              precision    recall  f1-score   support\n",
      "\n",
      "           0       1.00      0.95      0.97        58\n",
      "           1       0.95      1.00      0.98        62\n",
      "\n",
      "    accuracy                           0.97       120\n",
      "   macro avg       0.98      0.97      0.97       120\n",
      "weighted avg       0.98      0.97      0.97       120\n",
      "\n"
     ]
    }
   ],
   "source": [
    "# GradientBoostingClassifier:\n",
    "from sklearn.ensemble import GradientBoostingClassifier\n",
    "GradientBoost = GradientBoostingClassifier()\n",
    "GradientBoost = GradientBoost.fit(X_train,y_train)\n",
    "\n",
    "# Predictions:\n",
    "y_pred = GradientBoost.predict(X_test)\n",
    "\n",
    "# Performance:\n",
    "print('Accuracy:', accuracy_score(y_test,y_pred))\n",
    "print(confusion_matrix(y_test,y_pred))\n",
    "print(classification_report(y_test,y_pred))"
   ]
  },
  {
   "cell_type": "code",
   "execution_count": null,
   "id": "b4379b72",
   "metadata": {},
   "outputs": [],
   "source": [
    "\n"
   ]
  },
  {
   "cell_type": "code",
   "execution_count": 292,
   "id": "797b010f",
   "metadata": {},
   "outputs": [
    {
     "name": "stdout",
     "output_type": "stream",
     "text": [
      "SVM Accuracy: 0.9416666666666667\n",
      "[[55  3]\n",
      " [ 4 58]]\n",
      "              precision    recall  f1-score   support\n",
      "\n",
      "           0       0.93      0.95      0.94        58\n",
      "           1       0.95      0.94      0.94        62\n",
      "\n",
      "    accuracy                           0.94       120\n",
      "   macro avg       0.94      0.94      0.94       120\n",
      "weighted avg       0.94      0.94      0.94       120\n",
      "\n"
     ]
    }
   ],
   "source": [
    "from sklearn.svm import SVC\n",
    "SVM = SVC(kernel='linear')  \n",
    "SVM = SVM.fit(X_train, y_train)\n",
    "\n",
    "# Predictions:\n",
    "y_pred = SVM.predict(X_test)\n",
    "\n",
    "# Performance:\n",
    "print('SVM Accuracy:', accuracy_score(y_test, y_pred))\n",
    "print(confusion_matrix(y_test, y_pred))\n",
    "print(classification_report(y_test, y_pred))"
   ]
  },
  {
   "cell_type": "code",
   "execution_count": 293,
   "id": "da7d2a7d",
   "metadata": {},
   "outputs": [
    {
     "name": "stdout",
     "output_type": "stream",
     "text": [
      "KNN Accuracy: 0.9333333333333333\n",
      "[[55  3]\n",
      " [ 5 57]]\n",
      "              precision    recall  f1-score   support\n",
      "\n",
      "           0       0.92      0.95      0.93        58\n",
      "           1       0.95      0.92      0.93        62\n",
      "\n",
      "    accuracy                           0.93       120\n",
      "   macro avg       0.93      0.93      0.93       120\n",
      "weighted avg       0.93      0.93      0.93       120\n",
      "\n"
     ]
    }
   ],
   "source": [
    "# KNN Classifier:\n",
    "from sklearn.neighbors import KNeighborsClassifier\n",
    "KNN = KNeighborsClassifier(n_neighbors=5)  \n",
    "KNN = KNN.fit(X_train, y_train)\n",
    "\n",
    "# Predictions:\n",
    "y_pred = KNN.predict(X_test)\n",
    "\n",
    "# Performance:\n",
    "print('KNN Accuracy:', accuracy_score(y_test, y_pred))\n",
    "print(confusion_matrix(y_test, y_pred))\n",
    "print(classification_report(y_test, y_pred))\n"
   ]
  },
  {
   "cell_type": "code",
   "execution_count": 294,
   "id": "129542b6",
   "metadata": {},
   "outputs": [
    {
     "name": "stderr",
     "output_type": "stream",
     "text": [
      "/var/folders/6j/ctsgnxrx4r7ft9b56b774tfm0000gn/T/ipykernel_8393/3209276771.py:11: FutureWarning: \n",
      "\n",
      "Passing `palette` without assigning `hue` is deprecated and will be removed in v0.14.0. Assign the `x` variable to `hue` and set `legend=False` for the same effect.\n",
      "\n",
      "  sns.barplot(x=models, y=accuracies, palette=\"viridis\")\n"
     ]
    },
    {
     "data": {
      "image/png": "[encoded data removed]",
      "text/plain": [
       "<Figure size 1000x600 with 1 Axes>"
      ]
     },
     "metadata": {},
     "output_type": "display_data"
    }
   ],
   "source": [
    "# Collecting accuracies of all models\n",
    "models = ['RandomForest', 'AdaBoost', 'GradientBoost', 'SVM', 'KNN']\n",
    "accuracies = [accuracy_score(y_test, RandomForest.predict(X_test)),\n",
    "              accuracy_score(y_test, AdaBoost.predict(X_test)),\n",
    "              accuracy_score(y_test, GradientBoost.predict(X_test)),\n",
    "              accuracy_score(y_test, SVM.predict(X_test)),\n",
    "              accuracy_score(y_test, KNN.predict(X_test))]\n",
    "\n",
    "# Plotting the results\n",
    "plt.figure(figsize=(10,6))\n",
    "sns.barplot(x=models, y=accuracies, palette=\"viridis\")\n",
    "plt.title('Comparison of Model Accuracies')\n",
    "plt.ylabel('Accuracy')\n",
    "plt.show()\n"
   ]
  },
  {
   "cell_type": "code",
   "execution_count": 299,
   "id": "9178dfed",
   "metadata": {},
   "outputs": [],
   "source": [
    "X_train, X_test, y_train, y_test = train_test_split(X, y, test_size=0.3, random_state=42)"
   ]
  },
  {
   "cell_type": "code",
   "execution_count": 94,
   "id": "21e56d97",
   "metadata": {},
   "outputs": [],
   "source": []
  },
  {
   "cell_type": "code",
   "execution_count": 308,
   "id": "bf8af9f2",
   "metadata": {},
   "outputs": [
    {
     "name": "stdout",
     "output_type": "stream",
     "text": [
      "Baseline Model Accuracy: 1.00\n",
      "Baseline Confusion Matrix:\n",
      " [[44  0]\n",
      " [ 0 76]]\n"
     ]
    }
   ],
   "source": [
    "X_train, X_test, y_train, y_test = train_test_split(X, y, test_size=0.3, random_state=42)\n",
    "baseline_accuracy = accuracy_score(y_test, y_pred_baseline)\n",
    "print(f\"Baseline Model Accuracy: {baseline_accuracy:.2f}\")\n",
    "print(\"Baseline Confusion Matrix:\\n\", confusion_matrix(y_test, y_pred_baseline))\n"
   ]
  },
  {
   "cell_type": "code",
   "execution_count": null,
   "id": "82f26fae",
   "metadata": {},
   "outputs": [],
   "source": []
  },
  {
   "cell_type": "code",
   "execution_count": 302,
   "id": "6d7eeb25",
   "metadata": {},
   "outputs": [],
   "source": [
    "selected_features = ['sg', 'htn', 'hemo', 'dm', 'al', 'appet', 'rc', 'pc']"
   ]
  },
  {
   "cell_type": "code",
   "execution_count": 303,
   "id": "f67984a0",
   "metadata": {},
   "outputs": [],
   "source": [
    "scaler = StandardScaler()\n",
    "X_train_scaled = scaler.fit_transform(X_train[selected_features])\n",
    "X_test_scaled = scaler.transform(X_test[selected_features])"
   ]
  },
  {
   "cell_type": "code",
   "execution_count": 304,
   "id": "8d469594",
   "metadata": {},
   "outputs": [],
   "source": [
    "# RandomForest Classifier with optimized features and scaling\n",
    "rf_optimized = RandomForestClassifier(random_state=42)\n",
    "rf_optimized.fit(X_train_scaled, y_train)\n",
    "y_pred_optimized = rf_optimized.predict(X_test_scaled)\n"
   ]
  },
  {
   "cell_type": "code",
   "execution_count": 305,
   "id": "8fcd58f5",
   "metadata": {},
   "outputs": [
    {
     "name": "stdout",
     "output_type": "stream",
     "text": [
      "Optimized Model Accuracy: 1.00\n",
      "Optimized Confusion Matrix:\n",
      " [[44  0]\n",
      " [ 0 76]]\n"
     ]
    }
   ],
   "source": [
    "optimized_accuracy = accuracy_score(y_test, y_pred_optimized)\n",
    "print(f\"Optimized Model Accuracy: {optimized_accuracy:.2f}\")\n",
    "print(\"Optimized Confusion Matrix:\\n\", confusion_matrix(y_test, y_pred_optimized))\n"
   ]
  },
  {
   "cell_type": "code",
   "execution_count": 312,
   "id": "e1c62efb",
   "metadata": {},
   "outputs": [
    {
     "name": "stdout",
     "output_type": "stream",
     "text": [
      "Baseline Model Accuracy: 0.97\n",
      "Baseline Confusion Matrix:\n",
      " [[55  3]\n",
      " [ 0 62]]\n",
      "Baseline Classification Report:\n",
      "               precision    recall  f1-score   support\n",
      "\n",
      "           0       1.00      0.95      0.97        58\n",
      "           1       0.95      1.00      0.98        62\n",
      "\n",
      "    accuracy                           0.97       120\n",
      "   macro avg       0.98      0.97      0.97       120\n",
      "weighted avg       0.98      0.97      0.97       120\n",
      "\n",
      "Optimized Model Accuracy: 1.00\n",
      "Optimized Confusion Matrix:\n",
      " [[44  0]\n",
      " [ 0 76]]\n",
      "Optimized Classification Report:\n",
      "               precision    recall  f1-score   support\n",
      "\n",
      "           0       1.00      1.00      1.00        44\n",
      "           1       1.00      1.00      1.00        76\n",
      "\n",
      "    accuracy                           1.00       120\n",
      "   macro avg       1.00      1.00      1.00       120\n",
      "weighted avg       1.00      1.00      1.00       120\n",
      "\n"
     ]
    },
    {
     "name": "stderr",
     "output_type": "stream",
     "text": [
      "/var/folders/6j/ctsgnxrx4r7ft9b56b774tfm0000gn/T/ipykernel_8393/3054766807.py:61: FutureWarning: \n",
      "\n",
      "Passing `palette` without assigning `hue` is deprecated and will be removed in v0.14.0. Assign the `x` variable to `hue` and set `legend=False` for the same effect.\n",
      "\n",
      "  sns.barplot(x=models, y=accuracies, palette='viridis')\n"
     ]
    },
    {
     "data": {
      "image/png": "[encoded data removed]",
      "text/plain": [
       "<Figure size 800x600 with 1 Axes>"
      ]
     },
     "metadata": {},
     "output_type": "display_data"
    }
   ],
   "source": [
    "# Import necessary libraries\n",
    "import numpy as np\n",
    "import pandas as pd\n",
    "import matplotlib.pyplot as plt\n",
    "import seaborn as sns\n",
    "from sklearn.ensemble import RandomForestClassifier\n",
    "from sklearn.model_selection import train_test_split\n",
    "from sklearn.preprocessing import StandardScaler\n",
    "from sklearn.metrics import accuracy_score, confusion_matrix, classification_report\n",
    "\n",
    "# Sample dataset (replace with your actual dataset)\n",
    "# Assuming X is your feature matrix and y is your target variable\n",
    "# X, y = ...  # Load your dataset here\n",
    "\n",
    "# Split dataset for baseline model\n",
    "X_train, X_test, y_train, y_test = train_test_split(X, y, test_size=0.3, random_state=33)\n",
    "\n",
    "# Baseline RandomForest model\n",
    "rf_baseline = RandomForestClassifier(random_state=42)\n",
    "rf_baseline.fit(X_train, y_train)\n",
    "\n",
    "# Baseline predictions\n",
    "y_pred_baseline = rf_baseline.predict(X_test)\n",
    "\n",
    "# Baseline performance\n",
    "baseline_accuracy = accuracy_score(y_test, y_pred_baseline)\n",
    "print(f\"Baseline Model Accuracy: {baseline_accuracy:.2f}\")\n",
    "print(\"Baseline Confusion Matrix:\\n\", confusion_matrix(y_test, y_pred_baseline))\n",
    "print(\"Baseline Classification Report:\\n\", classification_report(y_test, y_pred_baseline))\n",
    "\n",
    "# Feature selection and scaling for optimized model\n",
    "selected_features = ['sg', 'htn', 'hemo', 'dm', 'al', 'appet', 'rc', 'pc']  # Customize this according to your feature names\n",
    "\n",
    "# Split dataset for optimized model\n",
    "X_train, X_test, y_train, y_test = train_test_split(X, y, test_size=0.3, random_state=42)\n",
    "\n",
    "# Scale selected features\n",
    "scaler = StandardScaler()\n",
    "X_train_scaled = scaler.fit_transform(X_train[selected_features])\n",
    "X_test_scaled = scaler.transform(X_test[selected_features])\n",
    "\n",
    "# Optimized RandomForest model\n",
    "rf_optimized = RandomForestClassifier(random_state=42)\n",
    "rf_optimized.fit(X_train_scaled, y_train)\n",
    "\n",
    "# Optimized predictions\n",
    "y_pred_optimized = rf_optimized.predict(X_test_scaled)\n",
    "\n",
    "# Optimized performance\n",
    "optimized_accuracy = accuracy_score(y_test, y_pred_optimized)\n",
    "print(f\"Optimized Model Accuracy: {optimized_accuracy:.2f}\")\n",
    "print(\"Optimized Confusion Matrix:\\n\", confusion_matrix(y_test, y_pred_optimized))\n",
    "print(\"Optimized Classification Report:\\n\", classification_report(y_test, y_pred_optimized))\n",
    "\n",
    "### Plotting the Accuracy Comparison\n",
    "plt.figure(figsize=(8, 6))\n",
    "models = ['Baseline Model', 'Optimized Model']\n",
    "accuracies = [baseline_accuracy, optimized_accuracy]\n",
    "\n",
    "# Plotting the bar chart\n",
    "sns.barplot(x=models, y=accuracies, palette='viridis')\n",
    "\n",
    "# Adding accuracy labels on top of the bars\n",
    "for i, accuracy in enumerate(accuracies):\n",
    "    plt.text(i, accuracy + 0.001, f'{accuracy:.2f}', ha='center', fontsize=12, fontweight='bold')\n",
    "\n",
    "# Setting y-axis limits for better differentiation\n",
    "plt.ylim(0.9, 1.05)  # Adjust this range as necessary\n",
    "\n",
    "# Title and labels\n",
    "plt.title('Accuracy Comparison: Baseline vs Optimized RandomForest')\n",
    "plt.ylabel('Accuracy')\n",
    "plt.xlabel('Model Type')\n",
    "\n",
    "# Display the plot\n",
    "plt.show()\n"
   ]
  },
  {
   "cell_type": "code",
   "execution_count": 313,
   "id": "7daf47af",
   "metadata": {},
   "outputs": [
    {
     "name": "stdout",
     "output_type": "stream",
     "text": [
      "Gradient Boosting Baseline Model Accuracy: 0.97\n",
      "Gradient Boosting Baseline Confusion Matrix:\n",
      " [[55  3]\n",
      " [ 0 62]]\n",
      "Gradient Boosting Baseline Classification Report:\n",
      "               precision    recall  f1-score   support\n",
      "\n",
      "           0       1.00      0.95      0.97        58\n",
      "           1       0.95      1.00      0.98        62\n",
      "\n",
      "    accuracy                           0.97       120\n",
      "   macro avg       0.98      0.97      0.97       120\n",
      "weighted avg       0.98      0.97      0.97       120\n",
      "\n",
      "Gradient Boosting Optimized Model Accuracy: 1.00\n",
      "Gradient Boosting Optimized Confusion Matrix:\n",
      " [[44  0]\n",
      " [ 0 76]]\n",
      "Gradient Boosting Optimized Classification Report:\n",
      "               precision    recall  f1-score   support\n",
      "\n",
      "           0       1.00      1.00      1.00        44\n",
      "           1       1.00      1.00      1.00        76\n",
      "\n",
      "    accuracy                           1.00       120\n",
      "   macro avg       1.00      1.00      1.00       120\n",
      "weighted avg       1.00      1.00      1.00       120\n",
      "\n"
     ]
    },
    {
     "name": "stderr",
     "output_type": "stream",
     "text": [
      "/var/folders/6j/ctsgnxrx4r7ft9b56b774tfm0000gn/T/ipykernel_8393/1039253892.py:65: FutureWarning: \n",
      "\n",
      "Passing `palette` without assigning `hue` is deprecated and will be removed in v0.14.0. Assign the `x` variable to `hue` and set `legend=False` for the same effect.\n",
      "\n",
      "  sns.barplot(x=models, y=accuracies, palette='viridis')\n"
     ]
    },
    {
     "data": {
      "image/png": "[encoded data removed]",
      "text/plain": [
       "<Figure size 800x600 with 1 Axes>"
      ]
     },
     "metadata": {},
     "output_type": "display_data"
    }
   ],
   "source": [
    "\n",
    "# Import necessary libraries\n",
    "import numpy as np\n",
    "import pandas as pd\n",
    "import matplotlib.pyplot as plt\n",
    "import seaborn as sns\n",
    "from sklearn.ensemble import GradientBoostingClassifier\n",
    "from sklearn.model_selection import train_test_split\n",
    "from sklearn.preprocessing import StandardScaler\n",
    "from sklearn.metrics import accuracy_score, confusion_matrix, classification_report\n",
    "\n",
    "# Sample dataset (replace with your actual dataset)\n",
    "# Assuming X is your feature matrix and y is your target variable\n",
    "# X, y = ...  # Load your dataset here\n",
    "\n",
    "# Split dataset for baseline model\n",
    "X_train, X_test, y_train, y_test = train_test_split(X, y, test_size=0.3, random_state=33)\n",
    "\n",
    "### BASELINE MODEL ###\n",
    "\n",
    "# Baseline Gradient Boosting model\n",
    "gb_baseline = GradientBoostingClassifier(random_state=42)\n",
    "gb_baseline.fit(X_train, y_train)\n",
    "\n",
    "# Baseline predictions\n",
    "y_pred_gb_baseline = gb_baseline.predict(X_test)\n",
    "\n",
    "# Baseline performance\n",
    "gb_baseline_accuracy = accuracy_score(y_test, y_pred_gb_baseline)\n",
    "print(f\"Gradient Boosting Baseline Model Accuracy: {gb_baseline_accuracy:.2f}\")\n",
    "print(\"Gradient Boosting Baseline Confusion Matrix:\\n\", confusion_matrix(y_test, y_pred_gb_baseline))\n",
    "print(\"Gradient Boosting Baseline Classification Report:\\n\", classification_report(y_test, y_pred_gb_baseline))\n",
    "\n",
    "### OPTIMIZED MODEL ###\n",
    "\n",
    "# Feature selection and scaling for optimized model\n",
    "selected_features = ['sg', 'htn', 'hemo', 'dm', 'al', 'appet', 'rc', 'pc']  # Customize this according to your feature names\n",
    "\n",
    "# Split dataset for optimized model\n",
    "X_train, X_test, y_train, y_test = train_test_split(X, y, test_size=0.3, random_state=42)\n",
    "\n",
    "# Scale selected features\n",
    "scaler = StandardScaler()\n",
    "X_train_scaled = scaler.fit_transform(X_train[selected_features])\n",
    "X_test_scaled = scaler.transform(X_test[selected_features])\n",
    "\n",
    "# Optimized Gradient Boosting model\n",
    "gb_optimized = GradientBoostingClassifier(random_state=42)\n",
    "gb_optimized.fit(X_train_scaled, y_train)\n",
    "\n",
    "# Optimized predictions\n",
    "y_pred_gb_optimized = gb_optimized.predict(X_test_scaled)\n",
    "\n",
    "# Optimized performance\n",
    "gb_optimized_accuracy = accuracy_score(y_test, y_pred_gb_optimized)\n",
    "print(f\"Gradient Boosting Optimized Model Accuracy: {gb_optimized_accuracy:.2f}\")\n",
    "print(\"Gradient Boosting Optimized Confusion Matrix:\\n\", confusion_matrix(y_test, y_pred_gb_optimized))\n",
    "print(\"Gradient Boosting Optimized Classification Report:\\n\", classification_report(y_test, y_pred_gb_optimized))\n",
    "\n",
    "### Plotting the Accuracy Comparison ###\n",
    "plt.figure(figsize=(8, 6))\n",
    "models = ['Gradient Boosting Baseline', 'Gradient Boosting Optimized']\n",
    "accuracies = [gb_baseline_accuracy, gb_optimized_accuracy]\n",
    "\n",
    "# Plotting the bar chart\n",
    "sns.barplot(x=models, y=accuracies, palette='viridis')\n",
    "\n",
    "# Adding accuracy labels on top of the bars\n",
    "for i, accuracy in enumerate(accuracies):\n",
    "    plt.text(i, accuracy + 0.001, f'{accuracy:.2f}', ha='center', fontsize=12, fontweight='bold')\n",
    "\n",
    "# Setting y-axis limits for better differentiation\n",
    "plt.ylim(0.9, 1.05)  # Adjust this range as necessary\n",
    "\n",
    "# Title and labels\n",
    "plt.title('Accuracy Comparison: Baseline vs Optimized Gradient Boosting')\n",
    "plt.ylabel('Accuracy')\n",
    "plt.xlabel('Model Type')\n",
    "\n",
    "# Display the plot\n",
    "plt.show()\n"
   ]
  },
  {
   "cell_type": "code",
   "execution_count": 314,
   "id": "4a211dda",
   "metadata": {},
   "outputs": [
    {
     "name": "stdout",
     "output_type": "stream",
     "text": [
      "AdaBoost Baseline Model Accuracy: 1.00\n",
      "AdaBoost Baseline Confusion Matrix:\n",
      " [[58  0]\n",
      " [ 0 62]]\n",
      "AdaBoost Baseline Classification Report:\n",
      "               precision    recall  f1-score   support\n",
      "\n",
      "           0       1.00      1.00      1.00        58\n",
      "           1       1.00      1.00      1.00        62\n",
      "\n",
      "    accuracy                           1.00       120\n",
      "   macro avg       1.00      1.00      1.00       120\n",
      "weighted avg       1.00      1.00      1.00       120\n",
      "\n",
      "AdaBoost Optimized Model Accuracy: 1.00\n",
      "AdaBoost Optimized Confusion Matrix:\n",
      " [[44  0]\n",
      " [ 0 76]]\n",
      "AdaBoost Optimized Classification Report:\n",
      "               precision    recall  f1-score   support\n",
      "\n",
      "           0       1.00      1.00      1.00        44\n",
      "           1       1.00      1.00      1.00        76\n",
      "\n",
      "    accuracy                           1.00       120\n",
      "   macro avg       1.00      1.00      1.00       120\n",
      "weighted avg       1.00      1.00      1.00       120\n",
      "\n"
     ]
    },
    {
     "name": "stderr",
     "output_type": "stream",
     "text": [
      "/var/folders/6j/ctsgnxrx4r7ft9b56b774tfm0000gn/T/ipykernel_8393/1295285882.py:65: FutureWarning: \n",
      "\n",
      "Passing `palette` without assigning `hue` is deprecated and will be removed in v0.14.0. Assign the `x` variable to `hue` and set `legend=False` for the same effect.\n",
      "\n",
      "  sns.barplot(x=models, y=accuracies, palette='viridis')\n"
     ]
    },
    {
     "data": {
      "image/png": "[encoded data removed]",
      "text/plain": [
       "<Figure size 800x600 with 1 Axes>"
      ]
     },
     "metadata": {},
     "output_type": "display_data"
    }
   ],
   "source": [
    "# Import necessary libraries\n",
    "import numpy as np\n",
    "import pandas as pd\n",
    "import matplotlib.pyplot as plt\n",
    "import seaborn as sns\n",
    "from sklearn.ensemble import AdaBoostClassifier\n",
    "from sklearn.model_selection import train_test_split\n",
    "from sklearn.preprocessing import StandardScaler\n",
    "from sklearn.metrics import accuracy_score, confusion_matrix, classification_report\n",
    "\n",
    "# Sample dataset (replace with your actual dataset)\n",
    "# Assuming X is your feature matrix and y is your target variable\n",
    "# X, y = ...  # Load your dataset here\n",
    "\n",
    "# Split dataset for baseline model\n",
    "X_train, X_test, y_train, y_test = train_test_split(X, y, test_size=0.3, random_state=33)\n",
    "\n",
    "### BASELINE MODEL ###\n",
    "\n",
    "# Baseline AdaBoost model\n",
    "ada_baseline = AdaBoostClassifier(n_estimators=50, learning_rate=0.5, random_state=42)  # Lower learning rate\n",
    "ada_baseline.fit(X_train, y_train)\n",
    "\n",
    "# Baseline predictions\n",
    "y_pred_ada_baseline = ada_baseline.predict(X_test)\n",
    "\n",
    "# Baseline performance\n",
    "ada_baseline_accuracy = accuracy_score(y_test, y_pred_ada_baseline)\n",
    "print(f\"AdaBoost Baseline Model Accuracy: {ada_baseline_accuracy:.2f}\")\n",
    "print(\"AdaBoost Baseline Confusion Matrix:\\n\", confusion_matrix(y_test, y_pred_ada_baseline))\n",
    "print(\"AdaBoost Baseline Classification Report:\\n\", classification_report(y_test, y_pred_ada_baseline))\n",
    "\n",
    "### OPTIMIZED MODEL ###\n",
    "\n",
    "# Feature selection and scaling for optimized model\n",
    "selected_features = ['sg', 'htn', 'hemo', 'dm', 'al', 'appet', 'rc', 'pc']  # Customize this according to your feature names\n",
    "\n",
    "# Split dataset for optimized model\n",
    "X_train, X_test, y_train, y_test = train_test_split(X, y, test_size=0.3, random_state=42)\n",
    "\n",
    "# Scale selected features\n",
    "scaler = StandardScaler()\n",
    "X_train_scaled = scaler.fit_transform(X_train[selected_features])\n",
    "X_test_scaled = scaler.transform(X_test[selected_features])\n",
    "\n",
    "# Optimized AdaBoost model\n",
    "ada_optimized = AdaBoostClassifier(n_estimators=100, learning_rate=1.0, random_state=42)  # Higher learning rate\n",
    "ada_optimized.fit(X_train_scaled, y_train)\n",
    "\n",
    "# Optimized predictions\n",
    "y_pred_ada_optimized = ada_optimized.predict(X_test_scaled)\n",
    "\n",
    "# Optimized performance\n",
    "ada_optimized_accuracy = accuracy_score(y_test, y_pred_ada_optimized)\n",
    "print(f\"AdaBoost Optimized Model Accuracy: {ada_optimized_accuracy:.2f}\")\n",
    "print(\"AdaBoost Optimized Confusion Matrix:\\n\", confusion_matrix(y_test, y_pred_ada_optimized))\n",
    "print(\"AdaBoost Optimized Classification Report:\\n\", classification_report(y_test, y_pred_ada_optimized))\n",
    "\n",
    "### Plotting the Accuracy Comparison ###\n",
    "plt.figure(figsize=(8, 6))\n",
    "models = ['AdaBoost Baseline', 'AdaBoost Optimized']\n",
    "accuracies = [ada_baseline_accuracy, ada_optimized_accuracy]\n",
    "\n",
    "# Plotting the bar chart\n",
    "sns.barplot(x=models, y=accuracies, palette='viridis')\n",
    "\n",
    "# Adding accuracy labels on top of the bars\n",
    "for i, accuracy in enumerate(accuracies):\n",
    "    plt.text(i, accuracy + 0.001, f'{accuracy:.2f}', ha='center', fontsize=12, fontweight='bold')\n",
    "\n",
    "# Setting y-axis limits for better differentiation\n",
    "plt.ylim(0.9, 1.05)  # Adjust this range as necessary\n",
    "\n",
    "# Title and labels\n",
    "plt.title('Accuracy Comparison: Baseline vs Optimized AdaBoost')\n",
    "plt.ylabel('Accuracy')\n",
    "plt.xlabel('Model Type')\n",
    "\n",
    "# Display the plot\n",
    "plt.show()\n"
   ]
  },
  {
   "cell_type": "code",
   "execution_count": 315,
   "id": "7aa6d778",
   "metadata": {},
   "outputs": [
    {
     "name": "stdout",
     "output_type": "stream",
     "text": [
      "SVM Baseline Model Accuracy: 0.94\n",
      "SVM Baseline Confusion Matrix:\n",
      " [[55  3]\n",
      " [ 4 58]]\n",
      "SVM Baseline Classification Report:\n",
      "               precision    recall  f1-score   support\n",
      "\n",
      "           0       0.93      0.95      0.94        58\n",
      "           1       0.95      0.94      0.94        62\n",
      "\n",
      "    accuracy                           0.94       120\n",
      "   macro avg       0.94      0.94      0.94       120\n",
      "weighted avg       0.94      0.94      0.94       120\n",
      "\n",
      "SVM Optimized Model Accuracy: 0.99\n",
      "SVM Optimized Confusion Matrix:\n",
      " [[44  0]\n",
      " [ 1 75]]\n",
      "SVM Optimized Classification Report:\n",
      "               precision    recall  f1-score   support\n",
      "\n",
      "           0       0.98      1.00      0.99        44\n",
      "           1       1.00      0.99      0.99        76\n",
      "\n",
      "    accuracy                           0.99       120\n",
      "   macro avg       0.99      0.99      0.99       120\n",
      "weighted avg       0.99      0.99      0.99       120\n",
      "\n"
     ]
    },
    {
     "name": "stderr",
     "output_type": "stream",
     "text": [
      "/var/folders/6j/ctsgnxrx4r7ft9b56b774tfm0000gn/T/ipykernel_8393/781160825.py:65: FutureWarning: \n",
      "\n",
      "Passing `palette` without assigning `hue` is deprecated and will be removed in v0.14.0. Assign the `x` variable to `hue` and set `legend=False` for the same effect.\n",
      "\n",
      "  sns.barplot(x=models, y=accuracies, palette='coolwarm')\n"
     ]
    },
    {
     "data": {
      "image/png": "[encoded data removed]",
      "text/plain": [
       "<Figure size 800x600 with 1 Axes>"
      ]
     },
     "metadata": {},
     "output_type": "display_data"
    }
   ],
   "source": [
    "# Import necessary libraries\n",
    "import numpy as np\n",
    "import pandas as pd\n",
    "import matplotlib.pyplot as plt\n",
    "import seaborn as sns\n",
    "from sklearn.svm import SVC\n",
    "from sklearn.model_selection import train_test_split\n",
    "from sklearn.preprocessing import StandardScaler\n",
    "from sklearn.metrics import accuracy_score, confusion_matrix, classification_report\n",
    "\n",
    "# Sample dataset (replace with your actual dataset)\n",
    "# Assuming X is your feature matrix and y is your target variable\n",
    "# X, y = ...  # Load your dataset here\n",
    "\n",
    "# Split dataset for baseline model\n",
    "X_train, X_test, y_train, y_test = train_test_split(X, y, test_size=0.3, random_state=33)\n",
    "\n",
    "### BASELINE MODEL ###\n",
    "\n",
    "# Baseline SVM model (linear kernel)\n",
    "SVM = SVC(kernel='linear', random_state=42)\n",
    "SVM.fit(X_train, y_train)\n",
    "\n",
    "# Baseline predictions\n",
    "y_pred_svm_baseline = SVM.predict(X_test)\n",
    "\n",
    "# Baseline performance\n",
    "svm_baseline_accuracy = accuracy_score(y_test, y_pred_svm_baseline)\n",
    "print(f\"SVM Baseline Model Accuracy: {svm_baseline_accuracy:.2f}\")\n",
    "print(\"SVM Baseline Confusion Matrix:\\n\", confusion_matrix(y_test, y_pred_svm_baseline))\n",
    "print(\"SVM Baseline Classification Report:\\n\", classification_report(y_test, y_pred_svm_baseline))\n",
    "\n",
    "### OPTIMIZED MODEL ###\n",
    "\n",
    "# Feature selection and scaling for optimized model\n",
    "selected_features = ['sg', 'htn', 'hemo', 'dm', 'al', 'appet', 'rc', 'pc']  # Customize this according to your feature names\n",
    "\n",
    "# Split dataset for optimized model\n",
    "X_train, X_test, y_train, y_test = train_test_split(X, y, test_size=0.3, random_state=42)\n",
    "\n",
    "# Scale selected features\n",
    "scaler = StandardScaler()\n",
    "X_train_scaled = scaler.fit_transform(X_train[selected_features])\n",
    "X_test_scaled = scaler.transform(X_test[selected_features])\n",
    "\n",
    "# Optimized SVM model\n",
    "svm_optimized = SVC(random_state=42)\n",
    "svm_optimized.fit(X_train_scaled, y_train)\n",
    "\n",
    "# Optimized predictions\n",
    "y_pred_svm_optimized = svm_optimized.predict(X_test_scaled)\n",
    "\n",
    "# Optimized performance\n",
    "svm_optimized_accuracy = accuracy_score(y_test, y_pred_svm_optimized)\n",
    "print(f\"SVM Optimized Model Accuracy: {svm_optimized_accuracy:.2f}\")\n",
    "print(\"SVM Optimized Confusion Matrix:\\n\", confusion_matrix(y_test, y_pred_svm_optimized))\n",
    "print(\"SVM Optimized Classification Report:\\n\", classification_report(y_test, y_pred_svm_optimized))\n",
    "\n",
    "### Plotting the Accuracy Comparison ###\n",
    "plt.figure(figsize=(8, 6))\n",
    "models = ['SVM Baseline', 'SVM Optimized']\n",
    "accuracies = [svm_baseline_accuracy, svm_optimized_accuracy]\n",
    "\n",
    "# Plotting the bar chart\n",
    "sns.barplot(x=models, y=accuracies, palette='coolwarm')\n",
    "\n",
    "# Adding accuracy labels on top of the bars\n",
    "for i, accuracy in enumerate(accuracies):\n",
    "    plt.text(i, accuracy + 0.001, f'{accuracy:.2f}', ha='center', fontsize=12, fontweight='bold')\n",
    "\n",
    "# Setting y-axis limits for better differentiation\n",
    "plt.ylim(0.9, 1.05)  # Adjust this range as necessary\n",
    "\n",
    "# Title and labels\n",
    "plt.title('Accuracy Comparison: Baseline vs Optimized SVM')\n",
    "plt.ylabel('Accuracy')\n",
    "plt.xlabel('Model Type')\n",
    "\n",
    "# Display the plot\n",
    "plt.show()\n"
   ]
  },
  {
   "cell_type": "code",
   "execution_count": 316,
   "id": "9e8c593f",
   "metadata": {},
   "outputs": [
    {
     "name": "stdout",
     "output_type": "stream",
     "text": [
      "KNN Baseline Model Accuracy: 0.99\n",
      "Baseline Confusion Matrix:\n",
      " [[44  0]\n",
      " [ 1 75]]\n",
      "Baseline Classification Report:\n",
      "               precision    recall  f1-score   support\n",
      "\n",
      "           0       0.98      1.00      0.99        44\n",
      "           1       1.00      0.99      0.99        76\n",
      "\n",
      "    accuracy                           0.99       120\n",
      "   macro avg       0.99      0.99      0.99       120\n",
      "weighted avg       0.99      0.99      0.99       120\n",
      "\n",
      "KNN Optimized Model Accuracy: 1.00\n",
      "Optimized Confusion Matrix:\n",
      " [[44  0]\n",
      " [ 0 76]]\n",
      "Optimized Classification Report:\n",
      "               precision    recall  f1-score   support\n",
      "\n",
      "           0       1.00      1.00      1.00        44\n",
      "           1       1.00      1.00      1.00        76\n",
      "\n",
      "    accuracy                           1.00       120\n",
      "   macro avg       1.00      1.00      1.00       120\n",
      "weighted avg       1.00      1.00      1.00       120\n",
      "\n"
     ]
    },
    {
     "data": {
      "image/png": "[encoded data removed]",
      "text/plain": [
       "<Figure size 800x500 with 1 Axes>"
      ]
     },
     "metadata": {},
     "output_type": "display_data"
    }
   ],
   "source": [
    "# Import necessary libraries\n",
    "import matplotlib.pyplot as plt\n",
    "import numpy as np\n",
    "from sklearn.metrics import accuracy_score, confusion_matrix, classification_report\n",
    "\n",
    "# Baseline Model Performance (already provided in the previous step)\n",
    "knn_baseline = KNeighborsClassifier(n_neighbors=5)  \n",
    "knn_baseline.fit(X_train, y_train)\n",
    "y_pred_knn_baseline = knn_baseline.predict(X_test)\n",
    "\n",
    "# Baseline Accuracy\n",
    "knn_baseline_accuracy = accuracy_score(y_test, y_pred_knn_baseline)\n",
    "print(f\"KNN Baseline Model Accuracy: {knn_baseline_accuracy:.2f}\")\n",
    "print(\"Baseline Confusion Matrix:\\n\", confusion_matrix(y_test, y_pred_knn_baseline))\n",
    "print(\"Baseline Classification Report:\\n\", classification_report(y_test, y_pred_knn_baseline))\n",
    "\n",
    "# Optimized Model Performance\n",
    "knn_optimized = KNeighborsClassifier()\n",
    "knn_optimized.fit(X_train_scaled, y_train)\n",
    "y_pred_knn_optimized = knn_optimized.predict(X_test_scaled)\n",
    "\n",
    "# Optimized Accuracy\n",
    "knn_optimized_accuracy = accuracy_score(y_test, y_pred_knn_optimized)\n",
    "print(f\"KNN Optimized Model Accuracy: {knn_optimized_accuracy:.2f}\")\n",
    "print(\"Optimized Confusion Matrix:\\n\", confusion_matrix(y_test, y_pred_knn_optimized))\n",
    "print(\"Optimized Classification Report:\\n\", classification_report(y_test, y_pred_knn_optimized))\n",
    "\n",
    "# Plotting the accuracy comparison\n",
    "models = ['KNN Baseline', 'KNN Optimized']\n",
    "accuracies = [knn_baseline_accuracy, knn_optimized_accuracy]\n",
    "\n",
    "plt.figure(figsize=(8, 5))\n",
    "plt.bar(models, accuracies, color=['blue', 'green'])\n",
    "plt.title('KNN Model Accuracy Comparison')\n",
    "plt.ylabel('Accuracy')\n",
    "plt.ylim(0, 1)  # Accuracy ranges from 0 to 1\n",
    "plt.show()\n"
   ]
  },
  {
   "cell_type": "code",
   "execution_count": 328,
   "id": "f71c2a1e",
   "metadata": {},
   "outputs": [
    {
     "name": "stdout",
     "output_type": "stream",
     "text": [
      "(280, 8)\n",
      "(120, 8)\n",
      "Random Forest Accuracy: 0.975\n",
      "AdaBoost Accuracy: 1.0\n",
      "Gradient Boosting Accuracy: 0.975\n",
      "SVM Accuracy: 0.9416666666666667\n",
      "KNN Accuracy: 0.9333333333333333\n"
     ]
    }
   ],
   "source": [
    "\n",
    "# Importing Libraries\n",
    "import numpy as np\n",
    "import pandas as pd\n",
    "import matplotlib.pyplot as plt\n",
    "import seaborn as sns\n",
    "from sklearn.model_selection import train_test_split\n",
    "from sklearn.metrics import accuracy_score, confusion_matrix, classification_report\n",
    "from sklearn.ensemble import RandomForestClassifier, AdaBoostClassifier, GradientBoostingClassifier\n",
    "from sklearn.svm import SVC\n",
    "from sklearn.neighbors import KNeighborsClassifier\n",
    "\n",
    "# Train Test Split:\n",
    "X_train, X_test, y_train, y_test = train_test_split(X, y, test_size=0.3, random_state=33)\n",
    "print(X_train.shape)\n",
    "print(X_test.shape)\n",
    "\n",
    "# Initialize a list to store model names and accuracies\n",
    "models = []\n",
    "accuracies = []\n",
    "\n",
    "# Random Forest Classifier\n",
    "rf = RandomForestClassifier()\n",
    "rf.fit(X_train, y_train)\n",
    "y_pred_rf = rf.predict(X_test)\n",
    "rf_accuracy = accuracy_score(y_test, y_pred_rf)\n",
    "models.append('Random Forest')\n",
    "accuracies.append(rf_accuracy)\n",
    "print('Random Forest Accuracy:', rf_accuracy)\n",
    "\n",
    "\n",
    "# AdaBoost Classifier\n",
    "ada = AdaBoostClassifier()\n",
    "ada.fit(X_train, y_train)\n",
    "y_pred_ada = ada.predict(X_test)\n",
    "ada_accuracy = accuracy_score(y_test, y_pred_ada)\n",
    "models.append('AdaBoost')\n",
    "accuracies.append(ada_accuracy)\n",
    "print('AdaBoost Accuracy:', ada_accuracy)\n",
    "\n",
    "\n",
    "# Gradient Boosting Classifier\n",
    "gb = GradientBoostingClassifier()\n",
    "gb.fit(X_train, y_train)\n",
    "y_pred_gb = gb.predict(X_test)\n",
    "gb_accuracy = accuracy_score(y_test, y_pred_gb)\n",
    "models.append('Gradient Boosting')\n",
    "accuracies.append(gb_accuracy)\n",
    "print('Gradient Boosting Accuracy:', gb_accuracy)\n",
    "\n",
    "\n",
    "# Support Vector Machine (SVM)\n",
    "svm = SVC(kernel='linear')\n",
    "svm.fit(X_train, y_train)\n",
    "y_pred_svm = svm.predict(X_test)\n",
    "svm_accuracy = accuracy_score(y_test, y_pred_svm)\n",
    "models.append('SVM')\n",
    "accuracies.append(svm_accuracy)\n",
    "print('SVM Accuracy:', svm_accuracy)\n",
    "\n",
    "\n",
    "# K-Nearest Neighbors (KNN)\n",
    "knn = KNeighborsClassifier(n_neighbors=5)\n",
    "knn.fit(X_train, y_train)\n",
    "y_pred_knn = knn.predict(X_test)\n",
    "knn_accuracy = accuracy_score(y_test, y_pred_knn)\n",
    "models.append('KNN')\n",
    "accuracies.append(knn_accuracy)\n",
    "print('KNN Accuracy:', knn_accuracy)\n",
    "\n",
    "\n",
    "\n"
   ]
  },
  {
   "cell_type": "code",
   "execution_count": 319,
   "id": "87c51c9b",
   "metadata": {},
   "outputs": [
    {
     "name": "stderr",
     "output_type": "stream",
     "text": [
      "/Library/Frameworks/Python.framework/Versions/3.10/lib/python3.10/site-packages/sklearn/base.py:420: UserWarning: X does not have valid feature names, but GradientBoostingClassifier was fitted with feature names\n",
      "  warnings.warn(\n"
     ]
    }
   ],
   "source": [
    "\n",
    "\n",
    "                        accuracy_score(y_test, knn_optimized.predict(X_test_scaled))]\n",
    "\n"
   ]
  },
  {
   "cell_type": "code",
   "execution_count": 323,
   "id": "89f2dfe0",
   "metadata": {},
   "outputs": [
    {
     "name": "stderr",
     "output_type": "stream",
     "text": [
      "/var/folders/6j/ctsgnxrx4r7ft9b56b774tfm0000gn/T/ipykernel_8393/731031262.py:2: FutureWarning: \n",
      "\n",
      "Passing `palette` without assigning `hue` is deprecated and will be removed in v0.14.0. Assign the `y` variable to `hue` and set `legend=False` for the same effect.\n",
      "\n",
      "  sns.barplot(x=accuracies, y=models, palette='Blues_d')  # Horizontal bar plot\n"
     ]
    },
    {
     "data": {
      "image/png": "[encoded data removed]",
      "text/plain": [
       "<Figure size 1200x800 with 1 Axes>"
      ]
     },
     "metadata": {},
     "output_type": "display_data"
    }
   ],
   "source": [
    "\n"
   ]
  },
  {
   "cell_type": "code",
   "execution_count": 334,
   "id": "6a02599b",
   "metadata": {},
   "outputs": [
    {
     "name": "stderr",
     "output_type": "stream",
     "text": [
      "/var/folders/6j/ctsgnxrx4r7ft9b56b774tfm0000gn/T/ipykernel_8393/1879589451.py:12: FutureWarning: \n",
      "\n",
      "Passing `palette` without assigning `hue` is deprecated and will be removed in v0.14.0. Assign the `y` variable to `hue` and set `legend=False` for the same effect.\n",
      "\n",
      "  sns.barplot(x=optimized_accuracies, y=optimized_models, palette='Greens_d')\n"
     ]
    },
    {
     "data": {
      "image/png": "[encoded data removed]",
      "text/plain": [
       "<Figure size 800x600 with 1 Axes>"
      ]
     },
     "metadata": {},
     "output_type": "display_data"
    }
   ],
   "source": [
    "import matplotlib.pyplot as plt\n",
    "import seaborn as sns\n",
    "\n",
    "# Sample data for optimized models (replace with your actual accuracies)\n",
    "optimized_models = ['Random Forest', 'AdaBoost', 'Gradient Boost', 'SVM', 'KNN']\n",
    "optimized_accuracies = [1.00, 1.00, 1.00, 0.99, 1.00]  # Replace with actual optimized accuracies\n",
    "\n",
    "# Set up the figure size\n",
    "plt.figure(figsize=(8, 6))\n",
    "\n",
    "# Plot Optimized Model Accuracies\n",
    "sns.barplot(x=optimized_accuracies, y=optimized_models, palette='Greens_d')\n",
    "plt.xlim(0.85, 1.0)  # Adjust limits as needed\n",
    "plt.title('Optimized Model Accuracies', fontsize=16)\n",
    "plt.xlabel('Accuracy', fontsize=14)\n",
    "plt.ylabel('Models', fontsize=14)\n",
    "plt.xticks(fontsize=12)\n",
    "\n",
    "# Add accuracy values on the bars\n",
    "for i, v in enumerate(optimized_accuracies):\n",
    "    plt.text(v + 0.002, i, f\"{v:.2f}\", ha='center', fontsize=12)\n",
    "\n",
    "plt.grid(axis='x', linestyle='--', alpha=0.7)\n",
    "\n",
    "# Show the plot\n",
    "plt.tight_layout()  # Adjust layout to fit into the figure area.\n",
    "plt.show()\n"
   ]
  },
  {
   "cell_type": "code",
   "execution_count": 335,
   "id": "2555e834",
   "metadata": {},
   "outputs": [
    {
     "data": {
      "image/png": "[encoded data removed]",
      "text/plain": [
       "<Figure size 1200x800 with 1 Axes>"
      ]
     },
     "metadata": {},
     "output_type": "display_data"
    }
   ],
   "source": [
    "import matplotlib.pyplot as plt\n",
    "import seaborn as sns\n",
    "import pandas as pd\n",
    "\n",
    "# Sample data for baseline and optimized models (replace with your actual accuracies)\n",
    "baseline_models = ['Random Forest', 'AdaBoost', 'Gradient Boost', 'SVM', 'KNN']\n",
    "baseline_accuracies = [0.9750, 1.00, 0.9750, 0.9416, 0.933]  # Replace with actual baseline accuracies\n",
    "\n",
    "optimized_models = ['Random Forest', 'AdaBoost', 'Gradient Boost', 'SVM', 'KNN']\n",
    "optimized_accuracies = [1.00, 1.00, 1.00, 0.99, 1.00]  # Replace with actual optimized accuracies\n",
    "\n",
    "# Combine data into a DataFrame\n",
    "data = {\n",
    "    'Model': baseline_models + optimized_models,\n",
    "    'Accuracy': baseline_accuracies + optimized_accuracies,\n",
    "    'Type': ['Baseline'] * len(baseline_models) + ['Optimized'] * len(optimized_models)\n",
    "}\n",
    "\n",
    "df = pd.DataFrame(data)\n",
    "\n",
    "# Set up the figure size\n",
    "plt.figure(figsize=(12, 8))\n",
    "\n",
    "# Plotting the comparison of model accuracies\n",
    "sns.barplot(x='Model', y='Accuracy', hue='Type', data=df, palette='viridis')\n",
    "\n",
    "# Adding titles and labels\n",
    "plt.title('Comparison of Model Accuracies', fontsize=16)\n",
    "plt.ylabel('Accuracy', fontsize=14)\n",
    "plt.xlabel('Models', fontsize=14)\n",
    "plt.ylim(0.85, 1.05)  # Adjust limits as needed\n",
    "plt.xticks(fontsize=12)\n",
    "plt.legend(title='Type', fontsize=12)\n",
    "\n",
    "# Add accuracy values on the bars\n",
    "for i, row in df.iterrows():\n",
    "    plt.text(i % len(baseline_models) + (0.15 if row['Type'] == 'Optimized' else -0.15), \n",
    "             row['Accuracy'] + 0.002, \n",
    "             f\"{row['Accuracy']:.2f}\", \n",
    "             ha='center', fontsize=12)\n",
    "\n",
    "plt.grid(axis='y', linestyle='--', alpha=0.7)\n",
    "plt.tight_layout()  # Adjust layout to fit into the figure area.\n",
    "plt.show()\n"
   ]
  },
  {
   "cell_type": "code",
   "execution_count": null,
   "id": "8b2fe06f",
   "metadata": {},
   "outputs": [],
   "source": []
  },
  {
   "cell_type": "code",
   "execution_count": null,
   "id": "63bc9d2f",
   "metadata": {},
   "outputs": [],
   "source": []
  },
  {
   "cell_type": "code",
   "execution_count": null,
   "id": "a2a0178f",
   "metadata": {},
   "outputs": [],
   "source": []
  },
  {
   "cell_type": "code",
   "execution_count": null,
   "id": "401da2e8",
   "metadata": {},
   "outputs": [],
   "source": []
  },
  {
   "cell_type": "code",
   "execution_count": null,
   "id": "848d0ab3",
   "metadata": {},
   "outputs": [],
   "source": []
  },
  {
   "cell_type": "code",
   "execution_count": null,
   "id": "2610044c",
   "metadata": {},
   "outputs": [],
   "source": []
  },
  {
   "cell_type": "code",
   "execution_count": null,
   "id": "bdf4d4d0",
   "metadata": {},
   "outputs": [],
   "source": []
  },
  {
   "cell_type": "code",
   "execution_count": null,
   "id": "41355d87",
   "metadata": {},
   "outputs": [],
   "source": []
  },
  {
   "cell_type": "code",
   "execution_count": null,
   "id": "b6642c90",
   "metadata": {},
   "outputs": [],
   "source": []
  }
 ],
 "metadata": {
  "kernelspec": {
   "display_name": "Python 3 (ipykernel)",
   "language": "python",
   "name": "python3"
  },
  "language_info": {
   "codemirror_mode": {
    "name": "ipython",
    "version": 3
   },
   "file_extension": ".py",
   "mimetype": "text/x-python",
   "name": "python",
   "nbconvert_exporter": "python",
   "pygments_lexer": "ipython3",
   "version": "3.10.0"
  }
 },
 "nbformat": 4,
 "nbformat_minor": 5
}
